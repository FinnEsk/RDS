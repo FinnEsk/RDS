{
  "nbformat": 4,
  "nbformat_minor": 0,
  "metadata": {
    "colab": {
      "provenance": [],
      "include_colab_link": true
    },
    "kernelspec": {
      "name": "python3",
      "display_name": "Python 3"
    },
    "language_info": {
      "name": "python"
    }
  },
  "cells": [
    {
      "cell_type": "markdown",
      "metadata": {
        "id": "view-in-github",
        "colab_type": "text"
      },
      "source": [
        "<a href=\"https://colab.research.google.com/github/FinnEsk/RDS/blob/main/Lab3.ipynb\" target=\"_parent\"><img src=\"https://colab.research.google.com/assets/colab-badge.svg\" alt=\"Open In Colab\"/></a>"
      ]
    },
    {
      "cell_type": "markdown",
      "source": [
        "# **Lab 3: Mitigating Bias Using Fairlearn**"
      ],
      "metadata": {
        "id": "3LrSVlCSDA9Z"
      }
    },
    {
      "cell_type": "markdown",
      "source": [
        "Previously we explored bias metrics and measuring bias in a binary classification machine learning model. In this Lab we will continue working on the same data and ML model, this time using Fairlearn to perform bias-mitigating interventions in three different ways:\n",
        "\n",
        "*   **Preprocessing interventions:** These algorithms transform the dataset (prior to training a model) in order to mitigate possible unfairness present in the data.\n",
        "    - Example: One way to think about bias is as correlation between sensitive and non-sensitive features in the dataset. By applying the [CorrelationRemover](https://fairlearn.org/v0.7.0/api_reference/fairlearn.preprocessing.html#fairlearn.preprocessing.CorrelationRemover), these correlations are projected away while details from the original data are retained as much as possible (as measured by least-squares error). The user can control the level of projection via the `alpha` parameter.\n",
        "\n",
        "*   **Reduction algorithms:** At a high level, the reduction algorithms within Fairlearn enable bias mitigation for machine learning models using user-provided constraints. The two available algorithms are [Exponentiated Gradient](https://fairlearn.org/v0.7.0/api_reference/fairlearn.reductions.html#fairlearn.reductions.ExponentiatedGradient) and [Grid Search](https://fairlearn.org/v0.7.0/api_reference/fairlearn.reductions.html#fairlearn.reductions.GridSearch). The reductions approach seeks to reduce binary classification and regression problems subject to fairness contrains to a sequence of weighted classification problems. As a result, the reduction algorithms in Fairlearn only require a wrapper to access to any “base” learning algorithm. By this we mean that the “base” algorithm only needs to implement `fit` and `predict` methods (like any standard scikit-learn estimator) but it does not need to have any knowledge of the desired fairness constraints or sensitive features.\n",
        "\n",
        "    From an API perspective this looks as follows in all situations:\n",
        "\n",
        "  > reduction = Reduction(base_estimator, constraints, **kwargs)  \n",
        "  > reduction.fit(X_train, y_train, sensitive_features=sensitive_features)  \n",
        "  > reduction.predict(X_test)  \n",
        "\n",
        "*   **Postprocessing algorithms:** The postprocessing algorithms transform the *outputs* of a classification or regression model to mitigate bias. For example, the [ThresholdOptimizer](https://fairlearn.org/v0.7.0/api_reference/fairlearn.postprocessing.html#fairlearn.postprocessing.ThresholdOptimizer) takes as input an existing classifier and the sensitive feature, and derives a monotone transformation of the classifier’s prediction to enforce the specified parity constraints.\n",
        "\n",
        "This Lab is divided into the following parts:\n",
        "\n",
        "1. Load the data as we did in Lab 2\n",
        "2. Use preprocessing algorithms to mitigate bias\n",
        "3. Use reduction algorithms to mitigate bias\n",
        "4. Use postprocessing algorithms to mitigate bias\n",
        "5. Compare all of our efforts"
      ],
      "metadata": {
        "id": "lmV3Oa62ewha"
      }
    },
    {
      "cell_type": "markdown",
      "source": [
        "#1. Load the data  (This code is all from Lab 2)"
      ],
      "metadata": {
        "id": "OAVIoTU3l9GI"
      }
    },
    {
      "cell_type": "markdown",
      "source": [
        "If you have any doubts about Part 1, please refer to Lab 2, in which we did the same steps."
      ],
      "metadata": {
        "id": "9ZPC6Qfzn1-4"
      }
    },
    {
      "cell_type": "code",
      "execution_count": null,
      "metadata": {
        "id": "9LqUU91SjcFB",
        "colab": {
          "base_uri": "https://localhost:8080/"
        },
        "outputId": "28e0b083-a029-48af-906b-16c606490ab6"
      },
      "outputs": [
        {
          "output_type": "stream",
          "name": "stdout",
          "text": [
            "Requirement already satisfied: fairlearn in /usr/local/lib/python3.10/dist-packages (0.10.0)\n",
            "Requirement already satisfied: numpy>=1.24.4 in /usr/local/lib/python3.10/dist-packages (from fairlearn) (1.26.4)\n",
            "Requirement already satisfied: pandas>=2.0.3 in /usr/local/lib/python3.10/dist-packages (from fairlearn) (2.2.0)\n",
            "Requirement already satisfied: scikit-learn>=1.2.1 in /usr/local/lib/python3.10/dist-packages (from fairlearn) (1.2.2)\n",
            "Requirement already satisfied: scipy>=1.9.3 in /usr/local/lib/python3.10/dist-packages (from fairlearn) (1.11.4)\n",
            "Requirement already satisfied: python-dateutil>=2.8.2 in /usr/local/lib/python3.10/dist-packages (from pandas>=2.0.3->fairlearn) (2.8.2)\n",
            "Requirement already satisfied: pytz>=2020.1 in /usr/local/lib/python3.10/dist-packages (from pandas>=2.0.3->fairlearn) (2023.4)\n",
            "Requirement already satisfied: tzdata>=2022.7 in /usr/local/lib/python3.10/dist-packages (from pandas>=2.0.3->fairlearn) (2023.4)\n",
            "Requirement already satisfied: joblib>=1.1.1 in /usr/local/lib/python3.10/dist-packages (from scikit-learn>=1.2.1->fairlearn) (1.3.2)\n",
            "Requirement already satisfied: threadpoolctl>=2.0.0 in /usr/local/lib/python3.10/dist-packages (from scikit-learn>=1.2.1->fairlearn) (3.2.0)\n",
            "Requirement already satisfied: six>=1.5 in /usr/local/lib/python3.10/dist-packages (from python-dateutil>=2.8.2->pandas>=2.0.3->fairlearn) (1.16.0)\n",
            "Requirement already satisfied: folktables in /usr/local/lib/python3.10/dist-packages (0.0.12)\n",
            "Requirement already satisfied: numpy in /usr/local/lib/python3.10/dist-packages (from folktables) (1.26.4)\n",
            "Requirement already satisfied: pandas in /usr/local/lib/python3.10/dist-packages (from folktables) (2.2.0)\n",
            "Requirement already satisfied: requests in /usr/local/lib/python3.10/dist-packages (from folktables) (2.31.0)\n",
            "Requirement already satisfied: scikit-learn in /usr/local/lib/python3.10/dist-packages (from folktables) (1.2.2)\n",
            "Requirement already satisfied: python-dateutil>=2.8.2 in /usr/local/lib/python3.10/dist-packages (from pandas->folktables) (2.8.2)\n",
            "Requirement already satisfied: pytz>=2020.1 in /usr/local/lib/python3.10/dist-packages (from pandas->folktables) (2023.4)\n",
            "Requirement already satisfied: tzdata>=2022.7 in /usr/local/lib/python3.10/dist-packages (from pandas->folktables) (2023.4)\n",
            "Requirement already satisfied: charset-normalizer<4,>=2 in /usr/local/lib/python3.10/dist-packages (from requests->folktables) (3.3.2)\n",
            "Requirement already satisfied: idna<4,>=2.5 in /usr/local/lib/python3.10/dist-packages (from requests->folktables) (3.6)\n",
            "Requirement already satisfied: urllib3<3,>=1.21.1 in /usr/local/lib/python3.10/dist-packages (from requests->folktables) (2.0.7)\n",
            "Requirement already satisfied: certifi>=2017.4.17 in /usr/local/lib/python3.10/dist-packages (from requests->folktables) (2024.2.2)\n",
            "Requirement already satisfied: scipy>=1.3.2 in /usr/local/lib/python3.10/dist-packages (from scikit-learn->folktables) (1.11.4)\n",
            "Requirement already satisfied: joblib>=1.1.1 in /usr/local/lib/python3.10/dist-packages (from scikit-learn->folktables) (1.3.2)\n",
            "Requirement already satisfied: threadpoolctl>=2.0.0 in /usr/local/lib/python3.10/dist-packages (from scikit-learn->folktables) (3.2.0)\n",
            "Requirement already satisfied: six>=1.5 in /usr/local/lib/python3.10/dist-packages (from python-dateutil>=2.8.2->pandas->folktables) (1.16.0)\n",
            "fatal: destination path 'superquail' already exists and is not an empty directory.\n"
          ]
        }
      ],
      "source": [
        "# %%capture\n",
        "#@markdown\n",
        "!pip install fairlearn\n",
        "!pip install folktables\n",
        "!git clone https://github.com/lurosenb/superquail"
      ]
    },
    {
      "cell_type": "code",
      "source": [
        "#@markdown Import statments\n",
        "from folktables import ACSDataSource, ACSEmployment, ACSIncome, ACSPublicCoverage, ACSTravelTime\n",
        "from superquail.data.acs_helper import ACSData\n",
        "\n",
        "import matplotlib.pyplot as plt\n",
        "import seaborn as sn\n",
        "import pandas as pd\n",
        "import numpy as np\n",
        "from sklearn.model_selection import train_test_split\n",
        "from sklearn.preprocessing import StandardScaler\n",
        "from sklearn.linear_model import LogisticRegression\n",
        "from sklearn.metrics import accuracy_score\n",
        "import sklearn.metrics as skm\n",
        "\n",
        "from fairlearn.datasets import fetch_adult\n",
        "from fairlearn.preprocessing import CorrelationRemover\n",
        "from fairlearn.reductions import ExponentiatedGradient\n",
        "from fairlearn.reductions import GridSearch\n",
        "from fairlearn.reductions import DemographicParity, ErrorRate\n",
        "from fairlearn.postprocessing import ThresholdOptimizer\n",
        "from fairlearn.metrics import MetricFrame\n",
        "from fairlearn.metrics import demographic_parity_difference, demographic_parity_ratio, selection_rate\n",
        "from fairlearn.metrics import false_negative_rate, false_positive_rate\n",
        "\n",
        "from IPython.display import clear_output"
      ],
      "metadata": {
        "id": "XJ5pQ55zkzHp"
      },
      "execution_count": null,
      "outputs": []
    },
    {
      "cell_type": "code",
      "source": [
        "#@markdown Import data\n",
        "data, features_df, target_df, groups_df = ACSData().return_acs_data_scenario(scenario=\"ACSIncome\", subsample=70000)\n",
        "\n",
        "print(data.shape)\n",
        "data.head()"
      ],
      "metadata": {
        "id": "8vjRWA4xlwk5",
        "colab": {
          "base_uri": "https://localhost:8080/",
          "height": 242
        },
        "outputId": "5ce9a6c2-ceea-472f-8c24-5957393e2459"
      },
      "execution_count": null,
      "outputs": [
        {
          "output_type": "stream",
          "name": "stdout",
          "text": [
            "Downloading data for 2018 1-Year person survey for CA...\n",
            "(70000, 11)\n"
          ]
        },
        {
          "output_type": "execute_result",
          "data": {
            "text/plain": [
              "   AGEP  COW  SCHL  MAR    OCCP   POBP  RELP  WKHP  SEX  RAC1P  PINCP\n",
              "0  30.0  3.0  22.0  5.0  1822.0    6.0   0.0  40.0  1.0    1.0    1.0\n",
              "1  51.0  6.0  18.0  1.0   205.0    6.0   1.0  50.0  1.0    1.0    1.0\n",
              "2  34.0  1.0  17.0  5.0  5840.0    6.0   2.0  40.0  1.0    8.0    0.0\n",
              "3  55.0  1.0  19.0  1.0  8555.0  303.0   0.0  48.0  1.0    8.0    0.0\n",
              "4  54.0  3.0  16.0  1.0  2435.0    6.0   0.0  40.0  2.0    1.0    0.0"
            ],
            "text/html": [
              "\n",
              "  <div id=\"df-d348227f-4f5b-49cb-9f8e-36ee89141bd8\" class=\"colab-df-container\">\n",
              "    <div>\n",
              "<style scoped>\n",
              "    .dataframe tbody tr th:only-of-type {\n",
              "        vertical-align: middle;\n",
              "    }\n",
              "\n",
              "    .dataframe tbody tr th {\n",
              "        vertical-align: top;\n",
              "    }\n",
              "\n",
              "    .dataframe thead th {\n",
              "        text-align: right;\n",
              "    }\n",
              "</style>\n",
              "<table border=\"1\" class=\"dataframe\">\n",
              "  <thead>\n",
              "    <tr style=\"text-align: right;\">\n",
              "      <th></th>\n",
              "      <th>AGEP</th>\n",
              "      <th>COW</th>\n",
              "      <th>SCHL</th>\n",
              "      <th>MAR</th>\n",
              "      <th>OCCP</th>\n",
              "      <th>POBP</th>\n",
              "      <th>RELP</th>\n",
              "      <th>WKHP</th>\n",
              "      <th>SEX</th>\n",
              "      <th>RAC1P</th>\n",
              "      <th>PINCP</th>\n",
              "    </tr>\n",
              "  </thead>\n",
              "  <tbody>\n",
              "    <tr>\n",
              "      <th>0</th>\n",
              "      <td>30.0</td>\n",
              "      <td>3.0</td>\n",
              "      <td>22.0</td>\n",
              "      <td>5.0</td>\n",
              "      <td>1822.0</td>\n",
              "      <td>6.0</td>\n",
              "      <td>0.0</td>\n",
              "      <td>40.0</td>\n",
              "      <td>1.0</td>\n",
              "      <td>1.0</td>\n",
              "      <td>1.0</td>\n",
              "    </tr>\n",
              "    <tr>\n",
              "      <th>1</th>\n",
              "      <td>51.0</td>\n",
              "      <td>6.0</td>\n",
              "      <td>18.0</td>\n",
              "      <td>1.0</td>\n",
              "      <td>205.0</td>\n",
              "      <td>6.0</td>\n",
              "      <td>1.0</td>\n",
              "      <td>50.0</td>\n",
              "      <td>1.0</td>\n",
              "      <td>1.0</td>\n",
              "      <td>1.0</td>\n",
              "    </tr>\n",
              "    <tr>\n",
              "      <th>2</th>\n",
              "      <td>34.0</td>\n",
              "      <td>1.0</td>\n",
              "      <td>17.0</td>\n",
              "      <td>5.0</td>\n",
              "      <td>5840.0</td>\n",
              "      <td>6.0</td>\n",
              "      <td>2.0</td>\n",
              "      <td>40.0</td>\n",
              "      <td>1.0</td>\n",
              "      <td>8.0</td>\n",
              "      <td>0.0</td>\n",
              "    </tr>\n",
              "    <tr>\n",
              "      <th>3</th>\n",
              "      <td>55.0</td>\n",
              "      <td>1.0</td>\n",
              "      <td>19.0</td>\n",
              "      <td>1.0</td>\n",
              "      <td>8555.0</td>\n",
              "      <td>303.0</td>\n",
              "      <td>0.0</td>\n",
              "      <td>48.0</td>\n",
              "      <td>1.0</td>\n",
              "      <td>8.0</td>\n",
              "      <td>0.0</td>\n",
              "    </tr>\n",
              "    <tr>\n",
              "      <th>4</th>\n",
              "      <td>54.0</td>\n",
              "      <td>3.0</td>\n",
              "      <td>16.0</td>\n",
              "      <td>1.0</td>\n",
              "      <td>2435.0</td>\n",
              "      <td>6.0</td>\n",
              "      <td>0.0</td>\n",
              "      <td>40.0</td>\n",
              "      <td>2.0</td>\n",
              "      <td>1.0</td>\n",
              "      <td>0.0</td>\n",
              "    </tr>\n",
              "  </tbody>\n",
              "</table>\n",
              "</div>\n",
              "    <div class=\"colab-df-buttons\">\n",
              "\n",
              "  <div class=\"colab-df-container\">\n",
              "    <button class=\"colab-df-convert\" onclick=\"convertToInteractive('df-d348227f-4f5b-49cb-9f8e-36ee89141bd8')\"\n",
              "            title=\"Convert this dataframe to an interactive table.\"\n",
              "            style=\"display:none;\">\n",
              "\n",
              "  <svg xmlns=\"http://www.w3.org/2000/svg\" height=\"24px\" viewBox=\"0 -960 960 960\">\n",
              "    <path d=\"M120-120v-720h720v720H120Zm60-500h600v-160H180v160Zm220 220h160v-160H400v160Zm0 220h160v-160H400v160ZM180-400h160v-160H180v160Zm440 0h160v-160H620v160ZM180-180h160v-160H180v160Zm440 0h160v-160H620v160Z\"/>\n",
              "  </svg>\n",
              "    </button>\n",
              "\n",
              "  <style>\n",
              "    .colab-df-container {\n",
              "      display:flex;\n",
              "      gap: 12px;\n",
              "    }\n",
              "\n",
              "    .colab-df-convert {\n",
              "      background-color: #E8F0FE;\n",
              "      border: none;\n",
              "      border-radius: 50%;\n",
              "      cursor: pointer;\n",
              "      display: none;\n",
              "      fill: #1967D2;\n",
              "      height: 32px;\n",
              "      padding: 0 0 0 0;\n",
              "      width: 32px;\n",
              "    }\n",
              "\n",
              "    .colab-df-convert:hover {\n",
              "      background-color: #E2EBFA;\n",
              "      box-shadow: 0px 1px 2px rgba(60, 64, 67, 0.3), 0px 1px 3px 1px rgba(60, 64, 67, 0.15);\n",
              "      fill: #174EA6;\n",
              "    }\n",
              "\n",
              "    .colab-df-buttons div {\n",
              "      margin-bottom: 4px;\n",
              "    }\n",
              "\n",
              "    [theme=dark] .colab-df-convert {\n",
              "      background-color: #3B4455;\n",
              "      fill: #D2E3FC;\n",
              "    }\n",
              "\n",
              "    [theme=dark] .colab-df-convert:hover {\n",
              "      background-color: #434B5C;\n",
              "      box-shadow: 0px 1px 3px 1px rgba(0, 0, 0, 0.15);\n",
              "      filter: drop-shadow(0px 1px 2px rgba(0, 0, 0, 0.3));\n",
              "      fill: #FFFFFF;\n",
              "    }\n",
              "  </style>\n",
              "\n",
              "    <script>\n",
              "      const buttonEl =\n",
              "        document.querySelector('#df-d348227f-4f5b-49cb-9f8e-36ee89141bd8 button.colab-df-convert');\n",
              "      buttonEl.style.display =\n",
              "        google.colab.kernel.accessAllowed ? 'block' : 'none';\n",
              "\n",
              "      async function convertToInteractive(key) {\n",
              "        const element = document.querySelector('#df-d348227f-4f5b-49cb-9f8e-36ee89141bd8');\n",
              "        const dataTable =\n",
              "          await google.colab.kernel.invokeFunction('convertToInteractive',\n",
              "                                                    [key], {});\n",
              "        if (!dataTable) return;\n",
              "\n",
              "        const docLinkHtml = 'Like what you see? Visit the ' +\n",
              "          '<a target=\"_blank\" href=https://colab.research.google.com/notebooks/data_table.ipynb>data table notebook</a>'\n",
              "          + ' to learn more about interactive tables.';\n",
              "        element.innerHTML = '';\n",
              "        dataTable['output_type'] = 'display_data';\n",
              "        await google.colab.output.renderOutput(dataTable, element);\n",
              "        const docLink = document.createElement('div');\n",
              "        docLink.innerHTML = docLinkHtml;\n",
              "        element.appendChild(docLink);\n",
              "      }\n",
              "    </script>\n",
              "  </div>\n",
              "\n",
              "\n",
              "<div id=\"df-59b83cc6-2fa5-4ac3-9752-47d2493e4396\">\n",
              "  <button class=\"colab-df-quickchart\" onclick=\"quickchart('df-59b83cc6-2fa5-4ac3-9752-47d2493e4396')\"\n",
              "            title=\"Suggest charts\"\n",
              "            style=\"display:none;\">\n",
              "\n",
              "<svg xmlns=\"http://www.w3.org/2000/svg\" height=\"24px\"viewBox=\"0 0 24 24\"\n",
              "     width=\"24px\">\n",
              "    <g>\n",
              "        <path d=\"M19 3H5c-1.1 0-2 .9-2 2v14c0 1.1.9 2 2 2h14c1.1 0 2-.9 2-2V5c0-1.1-.9-2-2-2zM9 17H7v-7h2v7zm4 0h-2V7h2v10zm4 0h-2v-4h2v4z\"/>\n",
              "    </g>\n",
              "</svg>\n",
              "  </button>\n",
              "\n",
              "<style>\n",
              "  .colab-df-quickchart {\n",
              "      --bg-color: #E8F0FE;\n",
              "      --fill-color: #1967D2;\n",
              "      --hover-bg-color: #E2EBFA;\n",
              "      --hover-fill-color: #174EA6;\n",
              "      --disabled-fill-color: #AAA;\n",
              "      --disabled-bg-color: #DDD;\n",
              "  }\n",
              "\n",
              "  [theme=dark] .colab-df-quickchart {\n",
              "      --bg-color: #3B4455;\n",
              "      --fill-color: #D2E3FC;\n",
              "      --hover-bg-color: #434B5C;\n",
              "      --hover-fill-color: #FFFFFF;\n",
              "      --disabled-bg-color: #3B4455;\n",
              "      --disabled-fill-color: #666;\n",
              "  }\n",
              "\n",
              "  .colab-df-quickchart {\n",
              "    background-color: var(--bg-color);\n",
              "    border: none;\n",
              "    border-radius: 50%;\n",
              "    cursor: pointer;\n",
              "    display: none;\n",
              "    fill: var(--fill-color);\n",
              "    height: 32px;\n",
              "    padding: 0;\n",
              "    width: 32px;\n",
              "  }\n",
              "\n",
              "  .colab-df-quickchart:hover {\n",
              "    background-color: var(--hover-bg-color);\n",
              "    box-shadow: 0 1px 2px rgba(60, 64, 67, 0.3), 0 1px 3px 1px rgba(60, 64, 67, 0.15);\n",
              "    fill: var(--button-hover-fill-color);\n",
              "  }\n",
              "\n",
              "  .colab-df-quickchart-complete:disabled,\n",
              "  .colab-df-quickchart-complete:disabled:hover {\n",
              "    background-color: var(--disabled-bg-color);\n",
              "    fill: var(--disabled-fill-color);\n",
              "    box-shadow: none;\n",
              "  }\n",
              "\n",
              "  .colab-df-spinner {\n",
              "    border: 2px solid var(--fill-color);\n",
              "    border-color: transparent;\n",
              "    border-bottom-color: var(--fill-color);\n",
              "    animation:\n",
              "      spin 1s steps(1) infinite;\n",
              "  }\n",
              "\n",
              "  @keyframes spin {\n",
              "    0% {\n",
              "      border-color: transparent;\n",
              "      border-bottom-color: var(--fill-color);\n",
              "      border-left-color: var(--fill-color);\n",
              "    }\n",
              "    20% {\n",
              "      border-color: transparent;\n",
              "      border-left-color: var(--fill-color);\n",
              "      border-top-color: var(--fill-color);\n",
              "    }\n",
              "    30% {\n",
              "      border-color: transparent;\n",
              "      border-left-color: var(--fill-color);\n",
              "      border-top-color: var(--fill-color);\n",
              "      border-right-color: var(--fill-color);\n",
              "    }\n",
              "    40% {\n",
              "      border-color: transparent;\n",
              "      border-right-color: var(--fill-color);\n",
              "      border-top-color: var(--fill-color);\n",
              "    }\n",
              "    60% {\n",
              "      border-color: transparent;\n",
              "      border-right-color: var(--fill-color);\n",
              "    }\n",
              "    80% {\n",
              "      border-color: transparent;\n",
              "      border-right-color: var(--fill-color);\n",
              "      border-bottom-color: var(--fill-color);\n",
              "    }\n",
              "    90% {\n",
              "      border-color: transparent;\n",
              "      border-bottom-color: var(--fill-color);\n",
              "    }\n",
              "  }\n",
              "</style>\n",
              "\n",
              "  <script>\n",
              "    async function quickchart(key) {\n",
              "      const quickchartButtonEl =\n",
              "        document.querySelector('#' + key + ' button');\n",
              "      quickchartButtonEl.disabled = true;  // To prevent multiple clicks.\n",
              "      quickchartButtonEl.classList.add('colab-df-spinner');\n",
              "      try {\n",
              "        const charts = await google.colab.kernel.invokeFunction(\n",
              "            'suggestCharts', [key], {});\n",
              "      } catch (error) {\n",
              "        console.error('Error during call to suggestCharts:', error);\n",
              "      }\n",
              "      quickchartButtonEl.classList.remove('colab-df-spinner');\n",
              "      quickchartButtonEl.classList.add('colab-df-quickchart-complete');\n",
              "    }\n",
              "    (() => {\n",
              "      let quickchartButtonEl =\n",
              "        document.querySelector('#df-59b83cc6-2fa5-4ac3-9752-47d2493e4396 button');\n",
              "      quickchartButtonEl.style.display =\n",
              "        google.colab.kernel.accessAllowed ? 'block' : 'none';\n",
              "    })();\n",
              "  </script>\n",
              "</div>\n",
              "    </div>\n",
              "  </div>\n"
            ]
          },
          "metadata": {},
          "execution_count": 3
        }
      ]
    },
    {
      "cell_type": "code",
      "source": [
        "#@markdown Drop rows with missing values\n",
        "data.dropna(inplace=True)\n",
        "data.info()"
      ],
      "metadata": {
        "colab": {
          "base_uri": "https://localhost:8080/"
        },
        "id": "_UV-ZkNpIAX-",
        "outputId": "df4c5260-ad74-4e46-9075-709a22f430c3",
        "cellView": "form"
      },
      "execution_count": null,
      "outputs": [
        {
          "output_type": "stream",
          "name": "stdout",
          "text": [
            "<class 'pandas.core.frame.DataFrame'>\n",
            "Int64Index: 70000 entries, 0 to 69999\n",
            "Data columns (total 11 columns):\n",
            " #   Column  Non-Null Count  Dtype  \n",
            "---  ------  --------------  -----  \n",
            " 0   AGEP    70000 non-null  float64\n",
            " 1   COW     70000 non-null  float64\n",
            " 2   SCHL    70000 non-null  float64\n",
            " 3   MAR     70000 non-null  float64\n",
            " 4   OCCP    70000 non-null  float64\n",
            " 5   POBP    70000 non-null  float64\n",
            " 6   RELP    70000 non-null  float64\n",
            " 7   WKHP    70000 non-null  float64\n",
            " 8   SEX     70000 non-null  float64\n",
            " 9   RAC1P   70000 non-null  float64\n",
            " 10  PINCP   70000 non-null  float64\n",
            "dtypes: float64(11)\n",
            "memory usage: 6.4 MB\n"
          ]
        }
      ]
    },
    {
      "cell_type": "code",
      "source": [
        "#@markdown Change data types of categorical features\n",
        "numerical_cols = ['AGEP','WKHP']\n",
        "categorical_cols = ['COW','SCHL','MAR','OCCP','POBP','RELP','RAC1P','SEX']\n",
        "\n",
        "for col in categorical_cols:\n",
        "  data[col] = data[col].astype('int')\n",
        "  data[col] = data[col].astype('str')\n",
        "\n",
        "data.info()"
      ],
      "metadata": {
        "colab": {
          "base_uri": "https://localhost:8080/"
        },
        "id": "yT7svu0Ld84g",
        "outputId": "26eff3c1-692c-40b7-a7c4-be23e0d5dc2b",
        "cellView": "form"
      },
      "execution_count": null,
      "outputs": [
        {
          "output_type": "stream",
          "name": "stdout",
          "text": [
            "<class 'pandas.core.frame.DataFrame'>\n",
            "Int64Index: 70000 entries, 0 to 69999\n",
            "Data columns (total 11 columns):\n",
            " #   Column  Non-Null Count  Dtype  \n",
            "---  ------  --------------  -----  \n",
            " 0   AGEP    70000 non-null  float64\n",
            " 1   COW     70000 non-null  object \n",
            " 2   SCHL    70000 non-null  object \n",
            " 3   MAR     70000 non-null  object \n",
            " 4   OCCP    70000 non-null  object \n",
            " 5   POBP    70000 non-null  object \n",
            " 6   RELP    70000 non-null  object \n",
            " 7   WKHP    70000 non-null  float64\n",
            " 8   SEX     70000 non-null  object \n",
            " 9   RAC1P   70000 non-null  object \n",
            " 10  PINCP   70000 non-null  float64\n",
            "dtypes: float64(3), object(8)\n",
            "memory usage: 6.4+ MB\n"
          ]
        }
      ]
    },
    {
      "cell_type": "code",
      "source": [
        "#@markdown Standardize numerical features\n",
        "scaler = StandardScaler()\n",
        "data[numerical_cols] = scaler.fit_transform(data[numerical_cols])\n",
        "data.head()"
      ],
      "metadata": {
        "colab": {
          "base_uri": "https://localhost:8080/",
          "height": 206
        },
        "id": "K45x53wezFp1",
        "outputId": "b1e9beaa-d661-450c-8043-975f7171f131",
        "cellView": "form"
      },
      "execution_count": null,
      "outputs": [
        {
          "output_type": "execute_result",
          "data": {
            "text/plain": [
              "       AGEP COW SCHL MAR  OCCP POBP RELP      WKHP SEX RAC1P  PINCP\n",
              "0 -0.248531   6   24   1  9005    6    0  0.781702   1     1    1.0\n",
              "1 -1.122896   1   21   5  4030  303    2 -1.380744   2     8    0.0\n",
              "2 -1.728225   8   14   1  6050    6    2 -2.848119   1     9    0.0\n",
              "3 -0.450307   1   20   1  1360    6    1  0.550012   1     1    1.0\n",
              "4 -1.055637   1   16   5  4150    6    2 -0.994593   2     1    0.0"
            ],
            "text/html": [
              "\n",
              "  <div id=\"df-b571340a-4011-45b2-b292-74e69b9b1a67\">\n",
              "    <div class=\"colab-df-container\">\n",
              "      <div>\n",
              "<style scoped>\n",
              "    .dataframe tbody tr th:only-of-type {\n",
              "        vertical-align: middle;\n",
              "    }\n",
              "\n",
              "    .dataframe tbody tr th {\n",
              "        vertical-align: top;\n",
              "    }\n",
              "\n",
              "    .dataframe thead th {\n",
              "        text-align: right;\n",
              "    }\n",
              "</style>\n",
              "<table border=\"1\" class=\"dataframe\">\n",
              "  <thead>\n",
              "    <tr style=\"text-align: right;\">\n",
              "      <th></th>\n",
              "      <th>AGEP</th>\n",
              "      <th>COW</th>\n",
              "      <th>SCHL</th>\n",
              "      <th>MAR</th>\n",
              "      <th>OCCP</th>\n",
              "      <th>POBP</th>\n",
              "      <th>RELP</th>\n",
              "      <th>WKHP</th>\n",
              "      <th>SEX</th>\n",
              "      <th>RAC1P</th>\n",
              "      <th>PINCP</th>\n",
              "    </tr>\n",
              "  </thead>\n",
              "  <tbody>\n",
              "    <tr>\n",
              "      <th>0</th>\n",
              "      <td>-0.248531</td>\n",
              "      <td>6</td>\n",
              "      <td>24</td>\n",
              "      <td>1</td>\n",
              "      <td>9005</td>\n",
              "      <td>6</td>\n",
              "      <td>0</td>\n",
              "      <td>0.781702</td>\n",
              "      <td>1</td>\n",
              "      <td>1</td>\n",
              "      <td>1.0</td>\n",
              "    </tr>\n",
              "    <tr>\n",
              "      <th>1</th>\n",
              "      <td>-1.122896</td>\n",
              "      <td>1</td>\n",
              "      <td>21</td>\n",
              "      <td>5</td>\n",
              "      <td>4030</td>\n",
              "      <td>303</td>\n",
              "      <td>2</td>\n",
              "      <td>-1.380744</td>\n",
              "      <td>2</td>\n",
              "      <td>8</td>\n",
              "      <td>0.0</td>\n",
              "    </tr>\n",
              "    <tr>\n",
              "      <th>2</th>\n",
              "      <td>-1.728225</td>\n",
              "      <td>8</td>\n",
              "      <td>14</td>\n",
              "      <td>1</td>\n",
              "      <td>6050</td>\n",
              "      <td>6</td>\n",
              "      <td>2</td>\n",
              "      <td>-2.848119</td>\n",
              "      <td>1</td>\n",
              "      <td>9</td>\n",
              "      <td>0.0</td>\n",
              "    </tr>\n",
              "    <tr>\n",
              "      <th>3</th>\n",
              "      <td>-0.450307</td>\n",
              "      <td>1</td>\n",
              "      <td>20</td>\n",
              "      <td>1</td>\n",
              "      <td>1360</td>\n",
              "      <td>6</td>\n",
              "      <td>1</td>\n",
              "      <td>0.550012</td>\n",
              "      <td>1</td>\n",
              "      <td>1</td>\n",
              "      <td>1.0</td>\n",
              "    </tr>\n",
              "    <tr>\n",
              "      <th>4</th>\n",
              "      <td>-1.055637</td>\n",
              "      <td>1</td>\n",
              "      <td>16</td>\n",
              "      <td>5</td>\n",
              "      <td>4150</td>\n",
              "      <td>6</td>\n",
              "      <td>2</td>\n",
              "      <td>-0.994593</td>\n",
              "      <td>2</td>\n",
              "      <td>1</td>\n",
              "      <td>0.0</td>\n",
              "    </tr>\n",
              "  </tbody>\n",
              "</table>\n",
              "</div>\n",
              "      <button class=\"colab-df-convert\" onclick=\"convertToInteractive('df-b571340a-4011-45b2-b292-74e69b9b1a67')\"\n",
              "              title=\"Convert this dataframe to an interactive table.\"\n",
              "              style=\"display:none;\">\n",
              "        \n",
              "  <svg xmlns=\"http://www.w3.org/2000/svg\" height=\"24px\"viewBox=\"0 0 24 24\"\n",
              "       width=\"24px\">\n",
              "    <path d=\"M0 0h24v24H0V0z\" fill=\"none\"/>\n",
              "    <path d=\"M18.56 5.44l.94 2.06.94-2.06 2.06-.94-2.06-.94-.94-2.06-.94 2.06-2.06.94zm-11 1L8.5 8.5l.94-2.06 2.06-.94-2.06-.94L8.5 2.5l-.94 2.06-2.06.94zm10 10l.94 2.06.94-2.06 2.06-.94-2.06-.94-.94-2.06-.94 2.06-2.06.94z\"/><path d=\"M17.41 7.96l-1.37-1.37c-.4-.4-.92-.59-1.43-.59-.52 0-1.04.2-1.43.59L10.3 9.45l-7.72 7.72c-.78.78-.78 2.05 0 2.83L4 21.41c.39.39.9.59 1.41.59.51 0 1.02-.2 1.41-.59l7.78-7.78 2.81-2.81c.8-.78.8-2.07 0-2.86zM5.41 20L4 18.59l7.72-7.72 1.47 1.35L5.41 20z\"/>\n",
              "  </svg>\n",
              "      </button>\n",
              "      \n",
              "  <style>\n",
              "    .colab-df-container {\n",
              "      display:flex;\n",
              "      flex-wrap:wrap;\n",
              "      gap: 12px;\n",
              "    }\n",
              "\n",
              "    .colab-df-convert {\n",
              "      background-color: #E8F0FE;\n",
              "      border: none;\n",
              "      border-radius: 50%;\n",
              "      cursor: pointer;\n",
              "      display: none;\n",
              "      fill: #1967D2;\n",
              "      height: 32px;\n",
              "      padding: 0 0 0 0;\n",
              "      width: 32px;\n",
              "    }\n",
              "\n",
              "    .colab-df-convert:hover {\n",
              "      background-color: #E2EBFA;\n",
              "      box-shadow: 0px 1px 2px rgba(60, 64, 67, 0.3), 0px 1px 3px 1px rgba(60, 64, 67, 0.15);\n",
              "      fill: #174EA6;\n",
              "    }\n",
              "\n",
              "    [theme=dark] .colab-df-convert {\n",
              "      background-color: #3B4455;\n",
              "      fill: #D2E3FC;\n",
              "    }\n",
              "\n",
              "    [theme=dark] .colab-df-convert:hover {\n",
              "      background-color: #434B5C;\n",
              "      box-shadow: 0px 1px 3px 1px rgba(0, 0, 0, 0.15);\n",
              "      filter: drop-shadow(0px 1px 2px rgba(0, 0, 0, 0.3));\n",
              "      fill: #FFFFFF;\n",
              "    }\n",
              "  </style>\n",
              "\n",
              "      <script>\n",
              "        const buttonEl =\n",
              "          document.querySelector('#df-b571340a-4011-45b2-b292-74e69b9b1a67 button.colab-df-convert');\n",
              "        buttonEl.style.display =\n",
              "          google.colab.kernel.accessAllowed ? 'block' : 'none';\n",
              "\n",
              "        async function convertToInteractive(key) {\n",
              "          const element = document.querySelector('#df-b571340a-4011-45b2-b292-74e69b9b1a67');\n",
              "          const dataTable =\n",
              "            await google.colab.kernel.invokeFunction('convertToInteractive',\n",
              "                                                     [key], {});\n",
              "          if (!dataTable) return;\n",
              "\n",
              "          const docLinkHtml = 'Like what you see? Visit the ' +\n",
              "            '<a target=\"_blank\" href=https://colab.research.google.com/notebooks/data_table.ipynb>data table notebook</a>'\n",
              "            + ' to learn more about interactive tables.';\n",
              "          element.innerHTML = '';\n",
              "          dataTable['output_type'] = 'display_data';\n",
              "          await google.colab.output.renderOutput(dataTable, element);\n",
              "          const docLink = document.createElement('div');\n",
              "          docLink.innerHTML = docLinkHtml;\n",
              "          element.appendChild(docLink);\n",
              "        }\n",
              "      </script>\n",
              "    </div>\n",
              "  </div>\n",
              "  "
            ]
          },
          "metadata": {},
          "execution_count": 6
        }
      ]
    },
    {
      "cell_type": "code",
      "source": [
        "#@markdown One-hot encode categorical features\n",
        "data = pd.get_dummies(data)\n",
        "\n",
        "#since the sex attribute is already binary we can drop one of the redundant dummy columns\n",
        "#note: males are now labeled as 1 and females are labeled as 0\n",
        "data.drop(columns=['SEX_2'], inplace=True)\n",
        "data.rename(columns={'SEX_1':'SEX'}, inplace=True)\n",
        "\n",
        "data.head()"
      ],
      "metadata": {
        "colab": {
          "base_uri": "https://localhost:8080/",
          "height": 235
        },
        "id": "6jWxUdV0gju_",
        "outputId": "ac557ec6-c983-4a45-a79a-24e2cc7d4642",
        "cellView": "form"
      },
      "execution_count": null,
      "outputs": [
        {
          "output_type": "execute_result",
          "data": {
            "text/plain": [
              "       AGEP      WKHP  PINCP  COW_1  COW_2  COW_3  COW_4  COW_5  COW_6  COW_7  \\\n",
              "0 -0.248531  0.781702    1.0      0      0      0      0      0      1      0   \n",
              "1 -1.122896 -1.380744    0.0      1      0      0      0      0      0      0   \n",
              "2 -1.728225 -2.848119    0.0      0      0      0      0      0      0      0   \n",
              "3 -0.450307  0.550012    1.0      1      0      0      0      0      0      0   \n",
              "4 -1.055637 -0.994593    0.0      1      0      0      0      0      0      0   \n",
              "\n",
              "   ...  SEX  RAC1P_1  RAC1P_2  RAC1P_3  RAC1P_4  RAC1P_5  RAC1P_6  RAC1P_7  \\\n",
              "0  ...    1        1        0        0        0        0        0        0   \n",
              "1  ...    0        0        0        0        0        0        0        0   \n",
              "2  ...    1        0        0        0        0        0        0        0   \n",
              "3  ...    1        1        0        0        0        0        0        0   \n",
              "4  ...    0        1        0        0        0        0        0        0   \n",
              "\n",
              "   RAC1P_8  RAC1P_9  \n",
              "0        0        0  \n",
              "1        1        0  \n",
              "2        0        1  \n",
              "3        0        0  \n",
              "4        0        0  \n",
              "\n",
              "[5 rows x 806 columns]"
            ],
            "text/html": [
              "\n",
              "  <div id=\"df-116c6635-c505-4945-a78e-8e73ab46e6c4\">\n",
              "    <div class=\"colab-df-container\">\n",
              "      <div>\n",
              "<style scoped>\n",
              "    .dataframe tbody tr th:only-of-type {\n",
              "        vertical-align: middle;\n",
              "    }\n",
              "\n",
              "    .dataframe tbody tr th {\n",
              "        vertical-align: top;\n",
              "    }\n",
              "\n",
              "    .dataframe thead th {\n",
              "        text-align: right;\n",
              "    }\n",
              "</style>\n",
              "<table border=\"1\" class=\"dataframe\">\n",
              "  <thead>\n",
              "    <tr style=\"text-align: right;\">\n",
              "      <th></th>\n",
              "      <th>AGEP</th>\n",
              "      <th>WKHP</th>\n",
              "      <th>PINCP</th>\n",
              "      <th>COW_1</th>\n",
              "      <th>COW_2</th>\n",
              "      <th>COW_3</th>\n",
              "      <th>COW_4</th>\n",
              "      <th>COW_5</th>\n",
              "      <th>COW_6</th>\n",
              "      <th>COW_7</th>\n",
              "      <th>...</th>\n",
              "      <th>SEX</th>\n",
              "      <th>RAC1P_1</th>\n",
              "      <th>RAC1P_2</th>\n",
              "      <th>RAC1P_3</th>\n",
              "      <th>RAC1P_4</th>\n",
              "      <th>RAC1P_5</th>\n",
              "      <th>RAC1P_6</th>\n",
              "      <th>RAC1P_7</th>\n",
              "      <th>RAC1P_8</th>\n",
              "      <th>RAC1P_9</th>\n",
              "    </tr>\n",
              "  </thead>\n",
              "  <tbody>\n",
              "    <tr>\n",
              "      <th>0</th>\n",
              "      <td>-0.248531</td>\n",
              "      <td>0.781702</td>\n",
              "      <td>1.0</td>\n",
              "      <td>0</td>\n",
              "      <td>0</td>\n",
              "      <td>0</td>\n",
              "      <td>0</td>\n",
              "      <td>0</td>\n",
              "      <td>1</td>\n",
              "      <td>0</td>\n",
              "      <td>...</td>\n",
              "      <td>1</td>\n",
              "      <td>1</td>\n",
              "      <td>0</td>\n",
              "      <td>0</td>\n",
              "      <td>0</td>\n",
              "      <td>0</td>\n",
              "      <td>0</td>\n",
              "      <td>0</td>\n",
              "      <td>0</td>\n",
              "      <td>0</td>\n",
              "    </tr>\n",
              "    <tr>\n",
              "      <th>1</th>\n",
              "      <td>-1.122896</td>\n",
              "      <td>-1.380744</td>\n",
              "      <td>0.0</td>\n",
              "      <td>1</td>\n",
              "      <td>0</td>\n",
              "      <td>0</td>\n",
              "      <td>0</td>\n",
              "      <td>0</td>\n",
              "      <td>0</td>\n",
              "      <td>0</td>\n",
              "      <td>...</td>\n",
              "      <td>0</td>\n",
              "      <td>0</td>\n",
              "      <td>0</td>\n",
              "      <td>0</td>\n",
              "      <td>0</td>\n",
              "      <td>0</td>\n",
              "      <td>0</td>\n",
              "      <td>0</td>\n",
              "      <td>1</td>\n",
              "      <td>0</td>\n",
              "    </tr>\n",
              "    <tr>\n",
              "      <th>2</th>\n",
              "      <td>-1.728225</td>\n",
              "      <td>-2.848119</td>\n",
              "      <td>0.0</td>\n",
              "      <td>0</td>\n",
              "      <td>0</td>\n",
              "      <td>0</td>\n",
              "      <td>0</td>\n",
              "      <td>0</td>\n",
              "      <td>0</td>\n",
              "      <td>0</td>\n",
              "      <td>...</td>\n",
              "      <td>1</td>\n",
              "      <td>0</td>\n",
              "      <td>0</td>\n",
              "      <td>0</td>\n",
              "      <td>0</td>\n",
              "      <td>0</td>\n",
              "      <td>0</td>\n",
              "      <td>0</td>\n",
              "      <td>0</td>\n",
              "      <td>1</td>\n",
              "    </tr>\n",
              "    <tr>\n",
              "      <th>3</th>\n",
              "      <td>-0.450307</td>\n",
              "      <td>0.550012</td>\n",
              "      <td>1.0</td>\n",
              "      <td>1</td>\n",
              "      <td>0</td>\n",
              "      <td>0</td>\n",
              "      <td>0</td>\n",
              "      <td>0</td>\n",
              "      <td>0</td>\n",
              "      <td>0</td>\n",
              "      <td>...</td>\n",
              "      <td>1</td>\n",
              "      <td>1</td>\n",
              "      <td>0</td>\n",
              "      <td>0</td>\n",
              "      <td>0</td>\n",
              "      <td>0</td>\n",
              "      <td>0</td>\n",
              "      <td>0</td>\n",
              "      <td>0</td>\n",
              "      <td>0</td>\n",
              "    </tr>\n",
              "    <tr>\n",
              "      <th>4</th>\n",
              "      <td>-1.055637</td>\n",
              "      <td>-0.994593</td>\n",
              "      <td>0.0</td>\n",
              "      <td>1</td>\n",
              "      <td>0</td>\n",
              "      <td>0</td>\n",
              "      <td>0</td>\n",
              "      <td>0</td>\n",
              "      <td>0</td>\n",
              "      <td>0</td>\n",
              "      <td>...</td>\n",
              "      <td>0</td>\n",
              "      <td>1</td>\n",
              "      <td>0</td>\n",
              "      <td>0</td>\n",
              "      <td>0</td>\n",
              "      <td>0</td>\n",
              "      <td>0</td>\n",
              "      <td>0</td>\n",
              "      <td>0</td>\n",
              "      <td>0</td>\n",
              "    </tr>\n",
              "  </tbody>\n",
              "</table>\n",
              "<p>5 rows × 806 columns</p>\n",
              "</div>\n",
              "      <button class=\"colab-df-convert\" onclick=\"convertToInteractive('df-116c6635-c505-4945-a78e-8e73ab46e6c4')\"\n",
              "              title=\"Convert this dataframe to an interactive table.\"\n",
              "              style=\"display:none;\">\n",
              "        \n",
              "  <svg xmlns=\"http://www.w3.org/2000/svg\" height=\"24px\"viewBox=\"0 0 24 24\"\n",
              "       width=\"24px\">\n",
              "    <path d=\"M0 0h24v24H0V0z\" fill=\"none\"/>\n",
              "    <path d=\"M18.56 5.44l.94 2.06.94-2.06 2.06-.94-2.06-.94-.94-2.06-.94 2.06-2.06.94zm-11 1L8.5 8.5l.94-2.06 2.06-.94-2.06-.94L8.5 2.5l-.94 2.06-2.06.94zm10 10l.94 2.06.94-2.06 2.06-.94-2.06-.94-.94-2.06-.94 2.06-2.06.94z\"/><path d=\"M17.41 7.96l-1.37-1.37c-.4-.4-.92-.59-1.43-.59-.52 0-1.04.2-1.43.59L10.3 9.45l-7.72 7.72c-.78.78-.78 2.05 0 2.83L4 21.41c.39.39.9.59 1.41.59.51 0 1.02-.2 1.41-.59l7.78-7.78 2.81-2.81c.8-.78.8-2.07 0-2.86zM5.41 20L4 18.59l7.72-7.72 1.47 1.35L5.41 20z\"/>\n",
              "  </svg>\n",
              "      </button>\n",
              "      \n",
              "  <style>\n",
              "    .colab-df-container {\n",
              "      display:flex;\n",
              "      flex-wrap:wrap;\n",
              "      gap: 12px;\n",
              "    }\n",
              "\n",
              "    .colab-df-convert {\n",
              "      background-color: #E8F0FE;\n",
              "      border: none;\n",
              "      border-radius: 50%;\n",
              "      cursor: pointer;\n",
              "      display: none;\n",
              "      fill: #1967D2;\n",
              "      height: 32px;\n",
              "      padding: 0 0 0 0;\n",
              "      width: 32px;\n",
              "    }\n",
              "\n",
              "    .colab-df-convert:hover {\n",
              "      background-color: #E2EBFA;\n",
              "      box-shadow: 0px 1px 2px rgba(60, 64, 67, 0.3), 0px 1px 3px 1px rgba(60, 64, 67, 0.15);\n",
              "      fill: #174EA6;\n",
              "    }\n",
              "\n",
              "    [theme=dark] .colab-df-convert {\n",
              "      background-color: #3B4455;\n",
              "      fill: #D2E3FC;\n",
              "    }\n",
              "\n",
              "    [theme=dark] .colab-df-convert:hover {\n",
              "      background-color: #434B5C;\n",
              "      box-shadow: 0px 1px 3px 1px rgba(0, 0, 0, 0.15);\n",
              "      filter: drop-shadow(0px 1px 2px rgba(0, 0, 0, 0.3));\n",
              "      fill: #FFFFFF;\n",
              "    }\n",
              "  </style>\n",
              "\n",
              "      <script>\n",
              "        const buttonEl =\n",
              "          document.querySelector('#df-116c6635-c505-4945-a78e-8e73ab46e6c4 button.colab-df-convert');\n",
              "        buttonEl.style.display =\n",
              "          google.colab.kernel.accessAllowed ? 'block' : 'none';\n",
              "\n",
              "        async function convertToInteractive(key) {\n",
              "          const element = document.querySelector('#df-116c6635-c505-4945-a78e-8e73ab46e6c4');\n",
              "          const dataTable =\n",
              "            await google.colab.kernel.invokeFunction('convertToInteractive',\n",
              "                                                     [key], {});\n",
              "          if (!dataTable) return;\n",
              "\n",
              "          const docLinkHtml = 'Like what you see? Visit the ' +\n",
              "            '<a target=\"_blank\" href=https://colab.research.google.com/notebooks/data_table.ipynb>data table notebook</a>'\n",
              "            + ' to learn more about interactive tables.';\n",
              "          element.innerHTML = '';\n",
              "          dataTable['output_type'] = 'display_data';\n",
              "          await google.colab.output.renderOutput(dataTable, element);\n",
              "          const docLink = document.createElement('div');\n",
              "          docLink.innerHTML = docLinkHtml;\n",
              "          element.appendChild(docLink);\n",
              "        }\n",
              "      </script>\n",
              "    </div>\n",
              "  </div>\n",
              "  "
            ]
          },
          "metadata": {},
          "execution_count": 7
        }
      ]
    },
    {
      "cell_type": "code",
      "source": [
        "#@markdown Split data into training and test sets\n",
        "target = data['PINCP']\n",
        "data.drop(columns='PINCP', inplace=True)\n",
        "\n",
        "#note: here we are setting a value for the random_state (seed) parameter so that the results of this lab will remain consistent\n",
        "X_train, X_test, y_train, y_test = train_test_split(data, target, test_size=0.2, random_state=4)\n",
        "\n",
        "print(f'X_train shape: {X_train.shape}')\n",
        "print(f'y_train shape: {y_train.shape}')\n",
        "print(f'X_test shape: {X_test.shape}')\n",
        "print(f'y_test shape: {y_test.shape}')"
      ],
      "metadata": {
        "id": "k7CoKBalCB_T",
        "colab": {
          "base_uri": "https://localhost:8080/"
        },
        "outputId": "a4148b5c-3a12-4d7d-8bb3-c383e1276afc",
        "cellView": "form"
      },
      "execution_count": null,
      "outputs": [
        {
          "output_type": "stream",
          "name": "stdout",
          "text": [
            "X_train shape: (56000, 805)\n",
            "y_train shape: (56000,)\n",
            "X_test shape: (14000, 805)\n",
            "y_test shape: (14000,)\n"
          ]
        }
      ]
    },
    {
      "cell_type": "markdown",
      "source": [
        "Next, we will replicate our procedure from Lab 2 where we train a classifier and evaluate its accuracy and bias."
      ],
      "metadata": {
        "id": "n-h8k2m-D-8j"
      }
    },
    {
      "cell_type": "code",
      "source": [
        "#@markdown Implement logistic regression\n",
        "clf = LogisticRegression()\n",
        "clf.fit(X_train, y_train)\n",
        "clf_accuracy = clf.score(X_test, y_test)\n",
        "\n",
        "clear_output()\n",
        "\n",
        "print(f'Logistic Regression test accuracy: {clf_accuracy:.4f}')"
      ],
      "metadata": {
        "colab": {
          "base_uri": "https://localhost:8080/"
        },
        "id": "0O1D5EVdCZxw",
        "outputId": "8f0d0915-df7a-4c12-cc32-952e2dbcc91b",
        "cellView": "form"
      },
      "execution_count": null,
      "outputs": [
        {
          "output_type": "stream",
          "name": "stdout",
          "text": [
            "Logistic Regression test accuracy: 0.8139\n"
          ]
        }
      ]
    },
    {
      "cell_type": "code",
      "source": [
        "#@markdown Evaluate the fairness of the classifier using demographic_parity_difference and demographic_parity_ratio\n",
        "#note: we are conducting this analysis over the test set\n",
        "\n",
        "#compute test predictions\n",
        "y_pred = clf.predict(X_test)\n",
        "\n",
        "#compute demographic parity difference and demographic parity ratio\n",
        "demo_parity_diff = demographic_parity_difference(y_test, y_pred, sensitive_features=X_test['SEX'])\n",
        "demo_parity_ratio = demographic_parity_ratio(y_test, y_pred, sensitive_features=X_test['SEX'])\n",
        "\n",
        "print(f'Demographic parity difference: {demo_parity_diff:.4f}')\n",
        "print(f'Demographic parity ratio: {demo_parity_ratio:.4f}')\n",
        "\n",
        "#compute selection rate for males and females\n",
        "male_selection_rate = selection_rate(y_test[X_test['SEX']==1], y_pred[X_test['SEX']==1])\n",
        "female_selection_rate = selection_rate(y_test[X_test['SEX']==0], y_pred[X_test['SEX']==0])\n",
        "\n",
        "print(f'Male selection rate: {male_selection_rate:.4f}')\n",
        "print(f'Female selection rate: {female_selection_rate:.4f}')"
      ],
      "metadata": {
        "colab": {
          "base_uri": "https://localhost:8080/"
        },
        "id": "rv0n_HiZChCZ",
        "outputId": "08e16e8c-8bbf-4dd7-ff8c-90f78b30b4e3",
        "cellView": "form"
      },
      "execution_count": null,
      "outputs": [
        {
          "output_type": "stream",
          "name": "stdout",
          "text": [
            "Demographic parity difference: 0.1304\n",
            "Demographic parity ratio: 0.7171\n",
            "Male selection rate: 0.4610\n",
            "Female selection rate: 0.3306\n"
          ]
        }
      ]
    },
    {
      "cell_type": "code",
      "source": [
        "#@markdown Evaluate (plot) the fairness of the classifier using the MetricFrame class\n",
        "\n",
        "#changing sensitive feature inputs to be 'male' and 'female' instead of 1 and 0\n",
        "sensitive_feature = X_test['SEX'].replace({0:'female', 1:'male'})\n",
        "\n",
        "#evaluation metrics\n",
        "metrics = {'accuracy': skm.accuracy_score,\n",
        "           'selection_rate': selection_rate,  # i.e., the percentage of the population which have ‘1’ as their predicted label\n",
        "           'FNR': false_negative_rate,\n",
        "           'FPR': false_positive_rate\n",
        "           }\n",
        "\n",
        "grouped_on_sex = MetricFrame(metrics=metrics,\n",
        "                             y_true=y_test,\n",
        "                             y_pred=y_pred,\n",
        "                             sensitive_features=sensitive_feature)\n",
        "\n",
        "grouped_on_sex.by_group.plot.bar(\n",
        "    subplots=True,\n",
        "    figsize=(5, 10),\n",
        "    ylim=[0,1],\n",
        "    title=\"Metrics by sex\",\n",
        "    )\n",
        "plt.show()"
      ],
      "metadata": {
        "id": "RhRew9d2a2AD",
        "colab": {
          "base_uri": "https://localhost:8080/",
          "height": 702
        },
        "outputId": "a06110d6-9634-4249-8be4-3adb9752c5b1"
      },
      "execution_count": null,
      "outputs": [
        {
          "output_type": "display_data",
          "data": {
            "text/plain": [
              "<Figure size 360x720 with 4 Axes>"
            ],
            "image/png": "[encoded data removed]"
          },
          "metadata": {
            "needs_background": "light"
          }
        }
      ]
    },
    {
      "cell_type": "markdown",
      "source": [
        "As before, we see that there are some disparities in the selection rate, FPR, and FNR between males and females. Namely, men have a higher selection rate because the have both a lower false negative rate and higher false positive rate."
      ],
      "metadata": {
        "id": "NBSkfP7Kf0o5"
      }
    },
    {
      "cell_type": "markdown",
      "source": [
        "#2. Preprocessing algorithms"
      ],
      "metadata": {
        "id": "oy8aIYjsl9oT"
      }
    },
    {
      "cell_type": "markdown",
      "source": [
        "Here, we will use the Correlation Remover Preprocessing algorithm to attempt to mitigate bias in our model.  The Correlation Remover will modify the original data, and then we will use this modified data in place of our original data to train our predictive model.\n",
        "\n",
        "- For example, suppose that `WKHP`, the number of hours worked per week, was well correlated with sex. Then, consider a model trained on that data which uses `WKHP` to predict someone's income. Thanks to that correlation, that model is also using `SEX` to predict income.\n",
        "\n",
        "To resolve this, this \"Correlation Remover\" takes our features that we are allowed to predict from, and forcibly changes their values a little bit so that the resulting features are _uncorrelated_ with sex. Then, a blind model like we used last week shouldn't have a way to distinguish men and women.\n",
        "\n",
        "- Notably, the \"Correlation Remover\" is a statistical model, and it needs to be trained on data. So, we fit the Remover on training data, and apply that model to de-correlate both the training and test data.\n",
        "\n",
        "- This removes _linear correlations_ in the data. If there's a nonlinear correlations in the data, and if the classifier model is able to learn nonlinear correlations, then it's not obvious that \"Correlation Remover\" will fix bias."
      ],
      "metadata": {
        "id": "PwJwQeyoGPET"
      }
    },
    {
      "cell_type": "markdown",
      "source": [
        "Before implementing the correlation remover, let us take a look again at the correlations between the numeric features and the target variable."
      ],
      "metadata": {
        "id": "_nDgm1dtfrCg"
      }
    },
    {
      "cell_type": "code",
      "source": [
        "#@title\n",
        "# Plot pairwise correlations between numeric features\n",
        "numerical_cols = ['AGEP','WKHP','SEX'] # We'll just pretend sex is numeric for this figure\n",
        "sn.heatmap(X_train[numerical_cols].corr(), mask=np.identity(len(X_train[numerical_cols].corr())), annot=True, cmap='Blues')\n",
        "plt.show()"
      ],
      "metadata": {
        "colab": {
          "base_uri": "https://localhost:8080/",
          "height": 265
        },
        "id": "zPbrYVfwf6A-",
        "outputId": "8dc4fc63-3499-403a-813b-3849e74156d8",
        "cellView": "form"
      },
      "execution_count": null,
      "outputs": [
        {
          "output_type": "display_data",
          "data": {
            "text/plain": [
              "<Figure size 432x288 with 2 Axes>"
            ],
            "image/png": "[encoded data removed]"
          },
          "metadata": {
            "needs_background": "light"
          }
        }
      ]
    },
    {
      "cell_type": "markdown",
      "source": [
        "The correlation between `sex` and `hours worked per week` is non-negligable. Note that we only plotted correlations between `sex` and the numerical features, event though we will also remove correlations between `sex` and the one-hot encoded categorical features."
      ],
      "metadata": {
        "id": "imsVhDahtmhV"
      }
    },
    {
      "cell_type": "code",
      "source": [
        "#@title\n",
        "# Implement Correlation Remover\n",
        "column_names = list(data.columns.values)\n",
        "column_names.remove(\"SEX\")\n",
        "\n",
        "cr = CorrelationRemover(sensitive_feature_ids=['SEX'], alpha=1.0)\n",
        "\n",
        "# Fit our correlation removing model on *only* training data\n",
        "cr.fit(X_train)\n",
        "\n",
        "# Remove correlations on both training and test data\n",
        "\n",
        "X_train_cr = cr.transform(X_train) # returns a numpy array, not a dataframe\n",
        "X_train_cr = pd.DataFrame(X_train_cr, columns=column_names, index=X_train.index)\n",
        "X_train_cr['SEX'] = X_train['SEX']\n",
        "\n",
        "X_test_cr = cr.transform(X_test)\n",
        "X_test_cr = pd.DataFrame(X_test_cr, columns=column_names, index=X_test.index)\n",
        "X_test_cr['SEX'] = X_test['SEX']"
      ],
      "metadata": {
        "id": "hT_KlvO4z7Ch",
        "cellView": "form"
      },
      "execution_count": null,
      "outputs": []
    },
    {
      "cell_type": "code",
      "source": [
        "#@title\n",
        "# We can plot the pairwise correlation again to see if correlation with `SEX` has decreased\n",
        "\n",
        "sn.heatmap(X_train_cr[numerical_cols].corr(), mask=np.identity(len(X_train_cr[numerical_cols].corr())), annot=True, cmap='Blues')\n",
        "plt.show()"
      ],
      "metadata": {
        "colab": {
          "base_uri": "https://localhost:8080/",
          "height": 269
        },
        "id": "HE3DFkoTj7Xa",
        "outputId": "282e6d9a-de97-42fa-bc4d-8ff6082ade90",
        "cellView": "form"
      },
      "execution_count": null,
      "outputs": [
        {
          "output_type": "display_data",
          "data": {
            "text/plain": [
              "<Figure size 432x288 with 2 Axes>"
            ],
            "image/png": "[encoded data removed]"
          },
          "metadata": {
            "needs_background": "light"
          }
        }
      ]
    },
    {
      "cell_type": "markdown",
      "source": [
        "Notice that the moderate-to-small correlations with `sex` are now virtually zero.\n",
        "\n",
        "In principle, we have done this also to all our categorical data too, though this preprocessing algorithm treated that data like it was numerical, and those columns are no longer only full of 0s and 1s.\n"
      ],
      "metadata": {
        "id": "dRpETIKJuyIa"
      }
    },
    {
      "cell_type": "code",
      "source": [
        "#@title\n",
        "X_train_cr.head()"
      ],
      "metadata": {
        "colab": {
          "base_uri": "https://localhost:8080/",
          "height": 235
        },
        "id": "v1pqW7kpujpO",
        "outputId": "18061b40-b022-4273-dc05-4fa4fc8f0669",
        "cellView": "form"
      },
      "execution_count": null,
      "outputs": [
        {
          "output_type": "execute_result",
          "data": {
            "text/plain": [
              "           AGEP      WKHP     COW_1     COW_2     COW_3     COW_4     COW_5  \\\n",
              "31604 -1.134095 -0.011169 -0.025594  0.020921  0.018705  1.008149 -0.006973   \n",
              "10793 -1.201354  0.761134  0.974406  0.020921  0.018705  0.008149 -0.006973   \n",
              "52093  0.033114 -0.411365  0.028818 -0.023556 -0.021061  0.990825  0.007851   \n",
              "25134 -1.537648 -0.011169  0.974406  0.020921  0.018705  0.008149 -0.006973   \n",
              "31569  0.436667 -0.874747  1.028818 -0.023556 -0.021061 -0.009175  0.007851   \n",
              "\n",
              "          COW_6     COW_7     COW_8  ...   RAC1P_1   RAC1P_2   RAC1P_3  \\\n",
              "31604 -0.005404 -0.010018  0.000214  ... -0.009824  0.002759  0.000251   \n",
              "10793 -0.005404 -0.010018  0.000214  ... -0.009824  0.002759  0.000251   \n",
              "52093  0.006085  0.011280 -0.000240  ...  1.011062 -0.003106 -0.000282   \n",
              "25134 -0.005404 -0.010018  0.000214  ... -0.009824  0.002759  0.000251   \n",
              "31569  0.006085  0.011280 -0.000240  ...  0.011062 -0.003106 -0.000282   \n",
              "\n",
              "        RAC1P_4   RAC1P_5   RAC1P_6   RAC1P_7   RAC1P_8   RAC1P_9  SEX  \n",
              "31604  0.000024 -0.000396  0.010697  0.000549  0.995410  0.000530    1  \n",
              "10793  0.000024 -0.000396  1.010697  0.000549 -0.004590  0.000530    1  \n",
              "52093 -0.000027  0.000446 -0.012045 -0.000618  0.005168 -0.000597    0  \n",
              "25134  0.000024 -0.000396  0.010697  0.000549  0.995410  0.000530    1  \n",
              "31569 -0.000027  0.000446  0.987955 -0.000618  0.005168 -0.000597    0  \n",
              "\n",
              "[5 rows x 805 columns]"
            ],
            "text/html": [
              "\n",
              "  <div id=\"df-6bdedfa6-0900-4c15-943e-c2b9d2f3a2ac\">\n",
              "    <div class=\"colab-df-container\">\n",
              "      <div>\n",
              "<style scoped>\n",
              "    .dataframe tbody tr th:only-of-type {\n",
              "        vertical-align: middle;\n",
              "    }\n",
              "\n",
              "    .dataframe tbody tr th {\n",
              "        vertical-align: top;\n",
              "    }\n",
              "\n",
              "    .dataframe thead th {\n",
              "        text-align: right;\n",
              "    }\n",
              "</style>\n",
              "<table border=\"1\" class=\"dataframe\">\n",
              "  <thead>\n",
              "    <tr style=\"text-align: right;\">\n",
              "      <th></th>\n",
              "      <th>AGEP</th>\n",
              "      <th>WKHP</th>\n",
              "      <th>COW_1</th>\n",
              "      <th>COW_2</th>\n",
              "      <th>COW_3</th>\n",
              "      <th>COW_4</th>\n",
              "      <th>COW_5</th>\n",
              "      <th>COW_6</th>\n",
              "      <th>COW_7</th>\n",
              "      <th>COW_8</th>\n",
              "      <th>...</th>\n",
              "      <th>RAC1P_1</th>\n",
              "      <th>RAC1P_2</th>\n",
              "      <th>RAC1P_3</th>\n",
              "      <th>RAC1P_4</th>\n",
              "      <th>RAC1P_5</th>\n",
              "      <th>RAC1P_6</th>\n",
              "      <th>RAC1P_7</th>\n",
              "      <th>RAC1P_8</th>\n",
              "      <th>RAC1P_9</th>\n",
              "      <th>SEX</th>\n",
              "    </tr>\n",
              "  </thead>\n",
              "  <tbody>\n",
              "    <tr>\n",
              "      <th>31604</th>\n",
              "      <td>-1.134095</td>\n",
              "      <td>-0.011169</td>\n",
              "      <td>-0.025594</td>\n",
              "      <td>0.020921</td>\n",
              "      <td>0.018705</td>\n",
              "      <td>1.008149</td>\n",
              "      <td>-0.006973</td>\n",
              "      <td>-0.005404</td>\n",
              "      <td>-0.010018</td>\n",
              "      <td>0.000214</td>\n",
              "      <td>...</td>\n",
              "      <td>-0.009824</td>\n",
              "      <td>0.002759</td>\n",
              "      <td>0.000251</td>\n",
              "      <td>0.000024</td>\n",
              "      <td>-0.000396</td>\n",
              "      <td>0.010697</td>\n",
              "      <td>0.000549</td>\n",
              "      <td>0.995410</td>\n",
              "      <td>0.000530</td>\n",
              "      <td>1</td>\n",
              "    </tr>\n",
              "    <tr>\n",
              "      <th>10793</th>\n",
              "      <td>-1.201354</td>\n",
              "      <td>0.761134</td>\n",
              "      <td>0.974406</td>\n",
              "      <td>0.020921</td>\n",
              "      <td>0.018705</td>\n",
              "      <td>0.008149</td>\n",
              "      <td>-0.006973</td>\n",
              "      <td>-0.005404</td>\n",
              "      <td>-0.010018</td>\n",
              "      <td>0.000214</td>\n",
              "      <td>...</td>\n",
              "      <td>-0.009824</td>\n",
              "      <td>0.002759</td>\n",
              "      <td>0.000251</td>\n",
              "      <td>0.000024</td>\n",
              "      <td>-0.000396</td>\n",
              "      <td>1.010697</td>\n",
              "      <td>0.000549</td>\n",
              "      <td>-0.004590</td>\n",
              "      <td>0.000530</td>\n",
              "      <td>1</td>\n",
              "    </tr>\n",
              "    <tr>\n",
              "      <th>52093</th>\n",
              "      <td>0.033114</td>\n",
              "      <td>-0.411365</td>\n",
              "      <td>0.028818</td>\n",
              "      <td>-0.023556</td>\n",
              "      <td>-0.021061</td>\n",
              "      <td>0.990825</td>\n",
              "      <td>0.007851</td>\n",
              "      <td>0.006085</td>\n",
              "      <td>0.011280</td>\n",
              "      <td>-0.000240</td>\n",
              "      <td>...</td>\n",
              "      <td>1.011062</td>\n",
              "      <td>-0.003106</td>\n",
              "      <td>-0.000282</td>\n",
              "      <td>-0.000027</td>\n",
              "      <td>0.000446</td>\n",
              "      <td>-0.012045</td>\n",
              "      <td>-0.000618</td>\n",
              "      <td>0.005168</td>\n",
              "      <td>-0.000597</td>\n",
              "      <td>0</td>\n",
              "    </tr>\n",
              "    <tr>\n",
              "      <th>25134</th>\n",
              "      <td>-1.537648</td>\n",
              "      <td>-0.011169</td>\n",
              "      <td>0.974406</td>\n",
              "      <td>0.020921</td>\n",
              "      <td>0.018705</td>\n",
              "      <td>0.008149</td>\n",
              "      <td>-0.006973</td>\n",
              "      <td>-0.005404</td>\n",
              "      <td>-0.010018</td>\n",
              "      <td>0.000214</td>\n",
              "      <td>...</td>\n",
              "      <td>-0.009824</td>\n",
              "      <td>0.002759</td>\n",
              "      <td>0.000251</td>\n",
              "      <td>0.000024</td>\n",
              "      <td>-0.000396</td>\n",
              "      <td>0.010697</td>\n",
              "      <td>0.000549</td>\n",
              "      <td>0.995410</td>\n",
              "      <td>0.000530</td>\n",
              "      <td>1</td>\n",
              "    </tr>\n",
              "    <tr>\n",
              "      <th>31569</th>\n",
              "      <td>0.436667</td>\n",
              "      <td>-0.874747</td>\n",
              "      <td>1.028818</td>\n",
              "      <td>-0.023556</td>\n",
              "      <td>-0.021061</td>\n",
              "      <td>-0.009175</td>\n",
              "      <td>0.007851</td>\n",
              "      <td>0.006085</td>\n",
              "      <td>0.011280</td>\n",
              "      <td>-0.000240</td>\n",
              "      <td>...</td>\n",
              "      <td>0.011062</td>\n",
              "      <td>-0.003106</td>\n",
              "      <td>-0.000282</td>\n",
              "      <td>-0.000027</td>\n",
              "      <td>0.000446</td>\n",
              "      <td>0.987955</td>\n",
              "      <td>-0.000618</td>\n",
              "      <td>0.005168</td>\n",
              "      <td>-0.000597</td>\n",
              "      <td>0</td>\n",
              "    </tr>\n",
              "  </tbody>\n",
              "</table>\n",
              "<p>5 rows × 805 columns</p>\n",
              "</div>\n",
              "      <button class=\"colab-df-convert\" onclick=\"convertToInteractive('df-6bdedfa6-0900-4c15-943e-c2b9d2f3a2ac')\"\n",
              "              title=\"Convert this dataframe to an interactive table.\"\n",
              "              style=\"display:none;\">\n",
              "        \n",
              "  <svg xmlns=\"http://www.w3.org/2000/svg\" height=\"24px\"viewBox=\"0 0 24 24\"\n",
              "       width=\"24px\">\n",
              "    <path d=\"M0 0h24v24H0V0z\" fill=\"none\"/>\n",
              "    <path d=\"M18.56 5.44l.94 2.06.94-2.06 2.06-.94-2.06-.94-.94-2.06-.94 2.06-2.06.94zm-11 1L8.5 8.5l.94-2.06 2.06-.94-2.06-.94L8.5 2.5l-.94 2.06-2.06.94zm10 10l.94 2.06.94-2.06 2.06-.94-2.06-.94-.94-2.06-.94 2.06-2.06.94z\"/><path d=\"M17.41 7.96l-1.37-1.37c-.4-.4-.92-.59-1.43-.59-.52 0-1.04.2-1.43.59L10.3 9.45l-7.72 7.72c-.78.78-.78 2.05 0 2.83L4 21.41c.39.39.9.59 1.41.59.51 0 1.02-.2 1.41-.59l7.78-7.78 2.81-2.81c.8-.78.8-2.07 0-2.86zM5.41 20L4 18.59l7.72-7.72 1.47 1.35L5.41 20z\"/>\n",
              "  </svg>\n",
              "      </button>\n",
              "      \n",
              "  <style>\n",
              "    .colab-df-container {\n",
              "      display:flex;\n",
              "      flex-wrap:wrap;\n",
              "      gap: 12px;\n",
              "    }\n",
              "\n",
              "    .colab-df-convert {\n",
              "      background-color: #E8F0FE;\n",
              "      border: none;\n",
              "      border-radius: 50%;\n",
              "      cursor: pointer;\n",
              "      display: none;\n",
              "      fill: #1967D2;\n",
              "      height: 32px;\n",
              "      padding: 0 0 0 0;\n",
              "      width: 32px;\n",
              "    }\n",
              "\n",
              "    .colab-df-convert:hover {\n",
              "      background-color: #E2EBFA;\n",
              "      box-shadow: 0px 1px 2px rgba(60, 64, 67, 0.3), 0px 1px 3px 1px rgba(60, 64, 67, 0.15);\n",
              "      fill: #174EA6;\n",
              "    }\n",
              "\n",
              "    [theme=dark] .colab-df-convert {\n",
              "      background-color: #3B4455;\n",
              "      fill: #D2E3FC;\n",
              "    }\n",
              "\n",
              "    [theme=dark] .colab-df-convert:hover {\n",
              "      background-color: #434B5C;\n",
              "      box-shadow: 0px 1px 3px 1px rgba(0, 0, 0, 0.15);\n",
              "      filter: drop-shadow(0px 1px 2px rgba(0, 0, 0, 0.3));\n",
              "      fill: #FFFFFF;\n",
              "    }\n",
              "  </style>\n",
              "\n",
              "      <script>\n",
              "        const buttonEl =\n",
              "          document.querySelector('#df-6bdedfa6-0900-4c15-943e-c2b9d2f3a2ac button.colab-df-convert');\n",
              "        buttonEl.style.display =\n",
              "          google.colab.kernel.accessAllowed ? 'block' : 'none';\n",
              "\n",
              "        async function convertToInteractive(key) {\n",
              "          const element = document.querySelector('#df-6bdedfa6-0900-4c15-943e-c2b9d2f3a2ac');\n",
              "          const dataTable =\n",
              "            await google.colab.kernel.invokeFunction('convertToInteractive',\n",
              "                                                     [key], {});\n",
              "          if (!dataTable) return;\n",
              "\n",
              "          const docLinkHtml = 'Like what you see? Visit the ' +\n",
              "            '<a target=\"_blank\" href=https://colab.research.google.com/notebooks/data_table.ipynb>data table notebook</a>'\n",
              "            + ' to learn more about interactive tables.';\n",
              "          element.innerHTML = '';\n",
              "          dataTable['output_type'] = 'display_data';\n",
              "          await google.colab.output.renderOutput(dataTable, element);\n",
              "          const docLink = document.createElement('div');\n",
              "          docLink.innerHTML = docLinkHtml;\n",
              "          element.appendChild(docLink);\n",
              "        }\n",
              "      </script>\n",
              "    </div>\n",
              "  </div>\n",
              "  "
            ]
          },
          "metadata": {},
          "execution_count": 15
        }
      ]
    },
    {
      "cell_type": "markdown",
      "source": [
        "Next, using the de-correlated data, we again implement our Logistic Regression classifier."
      ],
      "metadata": {
        "id": "cg8Ueg16GhAg"
      }
    },
    {
      "cell_type": "code",
      "source": [
        "#@title\n",
        "#implement logistic regression\n",
        "\n",
        "# First, drop sex from the data, which is now (hopefully) meaningful since it's uncorrelated with other variables now\n",
        "X_train_cr.drop(['SEX'], axis=1, inplace=True)\n",
        "X_test_cr.drop(['SEX'], axis=1, inplace=True)\n",
        "\n",
        "# Train the Logistic Regression model\n",
        "clf = LogisticRegression()\n",
        "clf.fit(X_train_cr, y_train)\n",
        "clf_accuracy_cr = clf.score(X_test_cr, y_test)\n",
        "\n",
        "clear_output()\n",
        "\n",
        "print(f'Logistic Regression with Correlation Remover test accuracy: {clf_accuracy_cr:.4f}')"
      ],
      "metadata": {
        "id": "5BRk6K8f6sDW",
        "colab": {
          "base_uri": "https://localhost:8080/"
        },
        "outputId": "30d0e7dd-b0b2-4b33-838a-be9f397774c6",
        "cellView": "form"
      },
      "execution_count": null,
      "outputs": [
        {
          "output_type": "stream",
          "name": "stdout",
          "text": [
            "Logistic Regression with Correlation Remover test accuracy: 0.8100\n"
          ]
        }
      ]
    },
    {
      "cell_type": "markdown",
      "source": [
        "#**TODO 1**: Write code to evaluate the fairness metrics of the model implemented with the Correlation Remover. Specifically, show the demographic parity difference, demographic parity ratio, male selection rate, and female selection rate."
      ],
      "metadata": {
        "id": "Ya73N10CV0m4"
      }
    },
    {
      "cell_type": "code",
      "source": [
        "#@markdown\n",
        "\n",
        "# print the fairness of the unaltered model\n",
        "print(\"Naive Model's results:\")\n",
        "print(f'  Demographic parity difference: {demo_parity_diff:.4f}')\n",
        "print(f'  Demographic parity ratio: {demo_parity_ratio:.4f}')\n",
        "print(f'  Male selection rate: {male_selection_rate:.4f}')\n",
        "print(f'  Female selection rate: {female_selection_rate:.4f}')\n",
        "print()\n",
        "\n",
        "\n",
        "# evaluate fairness of the classifier with Correlation Remover\n",
        "print('Correlation Remover results:')\n",
        "\n",
        "# store a vector with the sex of everyone in the test data\n",
        "# X_test_sexes = ...\n",
        "\n",
        "\n",
        "# compute test predictions\n",
        "# y_pred_cr = ...\n",
        "\n",
        "\n",
        "# compute demographic parity difference and demographic parity ratio\n",
        "# demo_parity_diff_cr = ...\n",
        "# demo_parity_ratio_cr = ...\n",
        "# print(f'  Demographic parity difference: {demo_parity_diff_cr:.4f}')\n",
        "# print(f'  Demographic parity ratio: {demo_parity_ratio_cr:.4f}')\n",
        "\n",
        "# compute selection rate for males and females\n",
        "# male_selection_rate_cr = ...\n",
        "# female_selection_rate_cr = ...\n",
        "# print(f'  Male selection rate: {male_selection_rate_cr:.4f}')\n",
        "# print(f'  Female selection rate: {female_selection_rate_cr:.4f}')\n"
      ],
      "metadata": {
        "colab": {
          "base_uri": "https://localhost:8080/"
        },
        "id": "bj9Zu7VfxI0v",
        "outputId": "07e2987d-52e8-4569-d2d5-cf9e9ebe2a0d",
        "cellView": "form"
      },
      "execution_count": null,
      "outputs": [
        {
          "output_type": "stream",
          "name": "stdout",
          "text": [
            "Naive Model's results:\n",
            "  Demographic parity difference: 0.1304\n",
            "  Demographic parity ratio: 0.7171\n",
            "  Male selection rate: 0.4610\n",
            "  Female selection rate: 0.3306\n",
            "\n",
            "Correlation Remover results:\n",
            "  Demographic parity difference: 0.0106\n",
            "  Demographic parity ratio: 0.9737\n",
            "  Male selection rate: 0.4030\n",
            "  Female selection rate: 0.3924\n"
          ]
        }
      ]
    },
    {
      "cell_type": "code",
      "source": [
        "# @markdown #**TODO 2**: write some code in this cell that plots metrics using the `MetricFrame` class\n",
        "\n",
        "# Write Code"
      ],
      "metadata": {
        "id": "a9VN5qfWavT0",
        "cellView": "form"
      },
      "execution_count": null,
      "outputs": []
    },
    {
      "cell_type": "markdown",
      "source": [
        "#**TODO 3**: What are the main differences in terms of bias in the Logistic Regression model implemented before and after the Correlation Remover Pre-Processing algorithm? What do these results indicate in terms of the attributes' correlation with the feature \"sex\"?"
      ],
      "metadata": {
        "id": "Laua3uXfN0Rr"
      }
    },
    {
      "cell_type": "markdown",
      "source": [
        "**Answer:**"
      ],
      "metadata": {
        "id": "BSzjBKrch8i9"
      }
    },
    {
      "cell_type": "markdown",
      "source": [
        "#**TODO 4**: What would we expect the results to be if we use an alpha parameter less than 1.0 (standard)? What would happen if we use alpha equal to 0?"
      ],
      "metadata": {
        "id": "Ac2VR2hjOcoU"
      }
    },
    {
      "cell_type": "markdown",
      "source": [
        "**Answer:**"
      ],
      "metadata": {
        "id": "515Y5EZspLvj"
      }
    },
    {
      "cell_type": "markdown",
      "source": [
        "#3. Reduction algorithms"
      ],
      "metadata": {
        "id": "C6y0E2iEmDWs"
      }
    },
    {
      "cell_type": "markdown",
      "source": [
        "Both **GridSearch** and **ExponentialGradient** can be used for binary classification and regression models, supporting the following fairness definitions:\n",
        "\n",
        "*   **Demographic Parity:** ensures that the selection rate or percentage of samples with label = 1 is equal across all groups. Implicitly this means the percentage with label = 0 is equal as well.\n",
        "\n",
        "*   **True Positive Rate Parity and False Positive Rate Parity:** ensures that the True Positive Rate (TP / TP + FN) **OR** the False Positive Rate (FP / FP + TN) is equal across all groups. In first case, we only consider samples with $Y = 1$ and ignore the samples with $Y = 0$, and in the second case vice versa.\n",
        "\n",
        "*   **Equalized Odds:** ensures that both True Positive Rate (TP / TP + FN) **AND** the False Positive Rate (FP / FP + TN) are equal across all groups. The constraints represent the union of constraints for true positive rate and false positive rate. Thus, samples with both $Y = 1$ and $Y = 0$ are considered.\n",
        "\n",
        "*   **Error Rate Parity:** ensures that the error rates should be the same across all groups. The __utility__ of our classifier on a single sample $X$ is 0 if we predicted the label correctly, and the utility is 1 otherwise. So, a large __total utility__ (i.e. sum of utilities across all test samples) here corresponds to a poor model.\n",
        "\n",
        "*   **Control Features:** The above metrics (Demographic Parity, True and False Positive Rate Parity, Equalized Odds, and Error Rate Parity) happen to all fit a math definition which lets us call them __Moments__$\\text{}^{\\dagger}$. These moments all support __Control Features__ when applying their fairness constraints.\n",
        "  1. Suppose we are designing a classifier to predict if someone will repay a loan. We may want to be fair towards sex. But, we also don't want to lose information about their annual income, so we want to control for their annual income somehow.\n",
        "  2. We can split all people into groups based on their income level, and require fairness towards sex _within_ each group. We will not require fairness towards sex _between_ different groups.\n",
        "  3. In this example, income level is a control feature.\n",
        "  4. Formally, a control feature stratifies the dataset, and applies the fairness constraint within each stratum, but not between strata.\n",
        "  5. This should be done with caution, since the control features might be correlated with the sensitive features due to historical biases.\n",
        "  6. In the loan scenario, we might choose to control for income level, on the grounds that higher income individuals are more likely to be able to repay a loan. However, due to historical bias, there is a correlation between the income level of individuals and their race and gender.\n",
        "\n",
        "$\\phantom{}^{[\\dagger]}$ _If you're curious, see https://arxiv.org/pdf/1803.02453.pdf for details on why these are called \"moments\"._"
      ],
      "metadata": {
        "id": "lRY-8XORIrpb"
      }
    },
    {
      "cell_type": "markdown",
      "source": [
        "##3.1 GridSearch"
      ],
      "metadata": {
        "id": "ylEcucV2t0px"
      }
    },
    {
      "cell_type": "markdown",
      "source": [
        "Here, we implement the Grid Search intervention on our classifier and examine its effects on bias in our model.  `GridSearch` implements a simplified version of the [exponentiated gradient reduction](https://fairlearn.org/main/api_reference/generated/fairlearn.reductions.ExponentiatedGradient.html) intervention.  It generates a sequence of relabellings and reweightings and trains a predictor for each.  From there, users can select the model that generates the most favorable tradoff between accuracy and fairness for their specific purpose.\n",
        "\n",
        "**NOTE**: this code will temporarily create several outputs which say `lbfgs failed to converge`. Ingore these messages."
      ],
      "metadata": {
        "id": "bgwgMmoHt2G3"
      }
    },
    {
      "cell_type": "code",
      "source": [
        "#@title\n",
        "#first we specificy Demographic Parity as our fairness metric and generate a train a series of predictors\n",
        "sweep = GridSearch(LogisticRegression(max_iter=100), constraints=DemographicParity())\n",
        "\n",
        "sweep.fit(X_train, y_train, sensitive_features=X_train['SEX']) # This will take about 2 minutes\n",
        "\n",
        "#GridSearch created a bunch of different predictors, stored in this list\n",
        "predictors = sweep.predictors_\n",
        "\n",
        "#next, we remove predictors which are dominated in the error-disparity space by others from the sweep\n",
        "errors, disparities = [], []\n",
        "for m in predictors:\n",
        "    def classifier(X): return m.predict(X)\n",
        "\n",
        "    # Load the training and test data into ErrorRate and DemographicParity objects\n",
        "    error = ErrorRate()\n",
        "    error.load_data(X_train, y_train, sensitive_features=X_train['SEX'])\n",
        "    disparity = DemographicParity()\n",
        "    disparity.load_data(X_train, y_train, sensitive_features=X_train['SEX'])\n",
        "\n",
        "    # error.gamma(classifier) and disparity.gamma(classifier) returns the actual error rate and statistical disparity\n",
        "    errors.append(error.gamma(classifier)[0])\n",
        "    disparities.append(disparity.gamma(classifier).max())\n",
        "\n",
        "\n",
        "# A Dataframe of all predictors, their errors, and their disparities\n",
        "all_results = pd.DataFrame({\"predictor\": predictors, \"error\": errors, \"disparity\": disparities})\n",
        "\n",
        "best_predictors = []\n",
        "\n",
        "# for each predictor\n",
        "for row in all_results.itertuples():\n",
        "    # find the subset of all predictors with disparity <= this predictor's disparity\n",
        "    # keep only the errors from that subset\n",
        "    errors_for_lower_or_eq_disparity = all_results[\"error\"][all_results[\"disparity\"] <= row.disparity]\n",
        "    if row.error <= errors_for_lower_or_eq_disparity.min():\n",
        "        # If this predictor has better error than all rows better disparity, add it to the list\n",
        "        best_predictors.append(row.predictor)\n",
        "\n",
        "clear_output()"
      ],
      "metadata": {
        "id": "hCq0ffkZtZ1S",
        "cellView": "form"
      },
      "execution_count": null,
      "outputs": []
    },
    {
      "cell_type": "code",
      "source": [
        "#@title\n",
        "# here we calculate the accuracy and fairness metrics for our dominant models\n",
        "# define a bunch of lists that will become Pandas dataframe columns\n",
        "model_num = []\n",
        "accuracy_gs = []\n",
        "demo_parity_diff_gs = []\n",
        "demo_parity_ratio_gs = []\n",
        "male_selection_rate_gs = []\n",
        "female_selection_rate_gs = []\n",
        "\n",
        "# populate the lists\n",
        "for i in range(len(best_predictors)):\n",
        "    y_pred = best_predictors[i].predict(X_test)\n",
        "\n",
        "    model_num.append(\"dominant_model_{0}\".format(i))\n",
        "    accuracy_gs.append(accuracy_score(y_test,y_pred))\n",
        "    demo_parity_diff_gs.append(demographic_parity_difference(y_test, y_pred, sensitive_features=X_test['SEX']))\n",
        "    demo_parity_ratio_gs.append(demographic_parity_ratio(y_test, y_pred, sensitive_features=X_test['SEX']))\n",
        "    male_selection_rate_gs.append(selection_rate(y_test[X_test['SEX']==1], y_pred[X_test['SEX']==1]))\n",
        "    female_selection_rate_gs.append(selection_rate(y_test[X_test['SEX']==0], y_pred[X_test['SEX']==0]))\n",
        "\n",
        "# make the lists into a single pandas dataframe\n",
        "grid_search_results_df = pd.DataFrame()\n",
        "grid_search_results_df['model'] = model_num\n",
        "grid_search_results_df['accuracy'] = accuracy_gs\n",
        "grid_search_results_df['demo_parity_diff'] = demo_parity_diff_gs\n",
        "grid_search_results_df['demo_parity_ratio'] = demo_parity_ratio_gs\n",
        "grid_search_results_df['male_selection_rate'] = male_selection_rate_gs\n",
        "grid_search_results_df['female_selection_rate'] = female_selection_rate_gs\n",
        "\n",
        "grid_search_results_df"
      ],
      "metadata": {
        "colab": {
          "base_uri": "https://localhost:8080/",
          "height": 112
        },
        "id": "gj9j5wzpvfvc",
        "outputId": "59e45e72-f224-4c35-ac0d-ea7b69b665b9",
        "cellView": "form"
      },
      "execution_count": null,
      "outputs": [
        {
          "output_type": "execute_result",
          "data": {
            "text/plain": [
              "              model  accuracy  demo_parity_diff  demo_parity_ratio  \\\n",
              "0  dominant_model_0  0.813929          0.130408           0.717125   \n",
              "1  dominant_model_1  0.794214          0.100357           0.775804   \n",
              "\n",
              "   male_selection_rate  female_selection_rate  \n",
              "0             0.461009               0.330601  \n",
              "1             0.347275               0.447632  "
            ],
            "text/html": [
              "\n",
              "  <div id=\"df-947de0ff-a58c-4b28-b592-c6a19cfe6c43\">\n",
              "    <div class=\"colab-df-container\">\n",
              "      <div>\n",
              "<style scoped>\n",
              "    .dataframe tbody tr th:only-of-type {\n",
              "        vertical-align: middle;\n",
              "    }\n",
              "\n",
              "    .dataframe tbody tr th {\n",
              "        vertical-align: top;\n",
              "    }\n",
              "\n",
              "    .dataframe thead th {\n",
              "        text-align: right;\n",
              "    }\n",
              "</style>\n",
              "<table border=\"1\" class=\"dataframe\">\n",
              "  <thead>\n",
              "    <tr style=\"text-align: right;\">\n",
              "      <th></th>\n",
              "      <th>model</th>\n",
              "      <th>accuracy</th>\n",
              "      <th>demo_parity_diff</th>\n",
              "      <th>demo_parity_ratio</th>\n",
              "      <th>male_selection_rate</th>\n",
              "      <th>female_selection_rate</th>\n",
              "    </tr>\n",
              "  </thead>\n",
              "  <tbody>\n",
              "    <tr>\n",
              "      <th>0</th>\n",
              "      <td>dominant_model_0</td>\n",
              "      <td>0.813929</td>\n",
              "      <td>0.130408</td>\n",
              "      <td>0.717125</td>\n",
              "      <td>0.461009</td>\n",
              "      <td>0.330601</td>\n",
              "    </tr>\n",
              "    <tr>\n",
              "      <th>1</th>\n",
              "      <td>dominant_model_1</td>\n",
              "      <td>0.794214</td>\n",
              "      <td>0.100357</td>\n",
              "      <td>0.775804</td>\n",
              "      <td>0.347275</td>\n",
              "      <td>0.447632</td>\n",
              "    </tr>\n",
              "  </tbody>\n",
              "</table>\n",
              "</div>\n",
              "      <button class=\"colab-df-convert\" onclick=\"convertToInteractive('df-947de0ff-a58c-4b28-b592-c6a19cfe6c43')\"\n",
              "              title=\"Convert this dataframe to an interactive table.\"\n",
              "              style=\"display:none;\">\n",
              "        \n",
              "  <svg xmlns=\"http://www.w3.org/2000/svg\" height=\"24px\"viewBox=\"0 0 24 24\"\n",
              "       width=\"24px\">\n",
              "    <path d=\"M0 0h24v24H0V0z\" fill=\"none\"/>\n",
              "    <path d=\"M18.56 5.44l.94 2.06.94-2.06 2.06-.94-2.06-.94-.94-2.06-.94 2.06-2.06.94zm-11 1L8.5 8.5l.94-2.06 2.06-.94-2.06-.94L8.5 2.5l-.94 2.06-2.06.94zm10 10l.94 2.06.94-2.06 2.06-.94-2.06-.94-.94-2.06-.94 2.06-2.06.94z\"/><path d=\"M17.41 7.96l-1.37-1.37c-.4-.4-.92-.59-1.43-.59-.52 0-1.04.2-1.43.59L10.3 9.45l-7.72 7.72c-.78.78-.78 2.05 0 2.83L4 21.41c.39.39.9.59 1.41.59.51 0 1.02-.2 1.41-.59l7.78-7.78 2.81-2.81c.8-.78.8-2.07 0-2.86zM5.41 20L4 18.59l7.72-7.72 1.47 1.35L5.41 20z\"/>\n",
              "  </svg>\n",
              "      </button>\n",
              "      \n",
              "  <style>\n",
              "    .colab-df-container {\n",
              "      display:flex;\n",
              "      flex-wrap:wrap;\n",
              "      gap: 12px;\n",
              "    }\n",
              "\n",
              "    .colab-df-convert {\n",
              "      background-color: #E8F0FE;\n",
              "      border: none;\n",
              "      border-radius: 50%;\n",
              "      cursor: pointer;\n",
              "      display: none;\n",
              "      fill: #1967D2;\n",
              "      height: 32px;\n",
              "      padding: 0 0 0 0;\n",
              "      width: 32px;\n",
              "    }\n",
              "\n",
              "    .colab-df-convert:hover {\n",
              "      background-color: #E2EBFA;\n",
              "      box-shadow: 0px 1px 2px rgba(60, 64, 67, 0.3), 0px 1px 3px 1px rgba(60, 64, 67, 0.15);\n",
              "      fill: #174EA6;\n",
              "    }\n",
              "\n",
              "    [theme=dark] .colab-df-convert {\n",
              "      background-color: #3B4455;\n",
              "      fill: #D2E3FC;\n",
              "    }\n",
              "\n",
              "    [theme=dark] .colab-df-convert:hover {\n",
              "      background-color: #434B5C;\n",
              "      box-shadow: 0px 1px 3px 1px rgba(0, 0, 0, 0.15);\n",
              "      filter: drop-shadow(0px 1px 2px rgba(0, 0, 0, 0.3));\n",
              "      fill: #FFFFFF;\n",
              "    }\n",
              "  </style>\n",
              "\n",
              "      <script>\n",
              "        const buttonEl =\n",
              "          document.querySelector('#df-947de0ff-a58c-4b28-b592-c6a19cfe6c43 button.colab-df-convert');\n",
              "        buttonEl.style.display =\n",
              "          google.colab.kernel.accessAllowed ? 'block' : 'none';\n",
              "\n",
              "        async function convertToInteractive(key) {\n",
              "          const element = document.querySelector('#df-947de0ff-a58c-4b28-b592-c6a19cfe6c43');\n",
              "          const dataTable =\n",
              "            await google.colab.kernel.invokeFunction('convertToInteractive',\n",
              "                                                     [key], {});\n",
              "          if (!dataTable) return;\n",
              "\n",
              "          const docLinkHtml = 'Like what you see? Visit the ' +\n",
              "            '<a target=\"_blank\" href=https://colab.research.google.com/notebooks/data_table.ipynb>data table notebook</a>'\n",
              "            + ' to learn more about interactive tables.';\n",
              "          element.innerHTML = '';\n",
              "          dataTable['output_type'] = 'display_data';\n",
              "          await google.colab.output.renderOutput(dataTable, element);\n",
              "          const docLink = document.createElement('div');\n",
              "          docLink.innerHTML = docLinkHtml;\n",
              "          element.appendChild(docLink);\n",
              "        }\n",
              "      </script>\n",
              "    </div>\n",
              "  </div>\n",
              "  "
            ]
          },
          "metadata": {},
          "execution_count": 46
        }
      ]
    },
    {
      "cell_type": "markdown",
      "source": [
        "#**TODO 5**: If we decide to prioritize fairness over accuracy in our model, which of these dominant models would you select and why? Recreate the MetricFrame plots used previously for the selected model.\n",
        "\n",
        "**Note: Results may changes with different runs.**\n"
      ],
      "metadata": {
        "id": "1L4nRRqEr1XK"
      }
    },
    {
      "cell_type": "markdown",
      "source": [
        "**Answer:**"
      ],
      "metadata": {
        "id": "bY6_zV2bFvHq"
      }
    },
    {
      "cell_type": "code",
      "source": [
        "#@markdown Plot the fairness metrics of the selected classifier using the MetricFrame class\n",
        "selected_model_num = 0\n",
        "y_pred_gs = best_predictors[selected_model_num].predict(X_test)\n",
        "\n",
        "grouped_on_sex_grid_search = MetricFrame(metrics=metrics,\n",
        "                             y_true=y_test,\n",
        "                             y_pred=y_pred_gs,\n",
        "                             sensitive_features=sensitive_feature)\n",
        "#plot the metric values\n",
        "grouped_on_sex_grid_search.by_group.plot.bar(\n",
        "    subplots=True,\n",
        "    figsize=(5, 10),\n",
        "    ylim=[0,1],\n",
        "    title=\"Metrics by sex\",\n",
        "    )\n",
        "plt.show()"
      ],
      "metadata": {
        "colab": {
          "base_uri": "https://localhost:8080/",
          "height": 702
        },
        "id": "f-ZS1oXWPEbv",
        "outputId": "82bdbab6-4958-447c-bd20-31e810b58e8d",
        "cellView": "form"
      },
      "execution_count": null,
      "outputs": [
        {
          "output_type": "display_data",
          "data": {
            "text/plain": [
              "<Figure size 360x720 with 4 Axes>"
            ],
            "image/png": "[encoded data removed]"
          },
          "metadata": {
            "needs_background": "light"
          }
        }
      ]
    },
    {
      "cell_type": "markdown",
      "source": [
        "#**TODO 6**: What does a comparison of these two dominant models tell us about the relationship between accuracy and fairness in our models?"
      ],
      "metadata": {
        "id": "HRT5VUSh0kBd"
      }
    },
    {
      "cell_type": "markdown",
      "source": [
        "**Answer here:**"
      ],
      "metadata": {
        "id": "-Ukhh_uXF_2a"
      }
    },
    {
      "cell_type": "markdown",
      "source": [
        "# 4 Postprocessing algorithms\n",
        "\n",
        "The logistic regression classifier does not just predict the class of a given input. It can also provide a \"confidence\" of how likely it thinks the class is postive, as a number between 0 and 1. Often, any confidence above 0.5 is labeled as positive, and any confidence below 0.5 is labeled as negative. In this case, we say that 0.5 is the __confidence threshold__.\n",
        "\n",
        "To achieve fairness, we will now consider a __postprocessing algorithm__ called [ThresholdOptimizer](https://fairlearn.org/v0.7.0/api_reference/fairlearn.postprocessing.html#fairlearn.postprocessing.ThresholdOptimizer).\n",
        "The ThresholdOptimizer will use our dataset and the confidence scores of our logistic regression model in order to transform the confidence scores to create a more fair model."
      ],
      "metadata": {
        "id": "YEQNF1BdTrK3"
      }
    },
    {
      "cell_type": "code",
      "source": [
        "#@markdown\n",
        "\n",
        "# Train a model on straightforward data\n",
        "default_model = LogisticRegression(max_iter=500).fit(X_train, y_train)\n",
        "\n",
        "# Make the post-processed model\n",
        "postprocessed_model = ThresholdOptimizer(\n",
        "    estimator=default_model,\n",
        "    constraints='selection_rate_parity',\n",
        "    objective='balanced_accuracy_score',\n",
        "    prefit=True,\n",
        "    predict_method='predict_proba'\n",
        ")\n",
        "\n",
        "# Fit the model to the training data\n",
        "postprocessed_model.fit(X_train, y_train, sensitive_features=X_train['SEX'])\n",
        "\n",
        "# Predict on the test data\n",
        "y_pred_to = postprocessed_model.predict(X_test, sensitive_features=X_test['SEX'])\n",
        "\n",
        "\n",
        "# Make a metricframe\n",
        "grouped_on_sex_to = MetricFrame(\n",
        "    metrics=metrics,\n",
        "    y_true=y_test,\n",
        "    y_pred=y_pred_to,\n",
        "    sensitive_features=sensitive_feature\n",
        ")\n",
        "\n",
        "# Plot a metricframe grouped by sex\n",
        "grouped_on_sex_to.by_group.plot.bar(\n",
        "    subplots=True,\n",
        "    figsize=(5, 10),\n",
        "    ylim=[0,1],\n",
        "    title=\"Metrics by sex\",\n",
        "    )\n",
        "plt.show()\n"
      ],
      "metadata": {
        "colab": {
          "base_uri": "https://localhost:8080/",
          "height": 702
        },
        "id": "rouFxrXRTqb_",
        "outputId": "a38e3d60-93ca-4627-9d7f-069357258938",
        "cellView": "form"
      },
      "execution_count": null,
      "outputs": [
        {
          "output_type": "display_data",
          "data": {
            "text/plain": [
              "<Figure size 360x720 with 4 Axes>"
            ],
            "image/png": "[encoded data removed]"
          },
          "metadata": {
            "needs_background": "light"
          }
        }
      ]
    },
    {
      "cell_type": "code",
      "source": [
        "#@title\n",
        "# print the fairness of the unaltered model\n",
        "print(\"Naive Model's results:\")\n",
        "print(f'  Demographic parity difference: {demo_parity_diff:.4f}')\n",
        "print(f'  Demographic parity ratio: {demo_parity_ratio:.4f}')\n",
        "print(f'  Male selection rate: {male_selection_rate:.4f}')\n",
        "print(f'  Female selection rate: {female_selection_rate:.4f}')\n",
        "print()\n",
        "\n",
        "\n",
        "# evaluate fairness of the classifier with Correlation Remover\n",
        "print('ThresholdOptimizer results:')\n",
        "\n",
        "#compute demographic parity difference and demographic parity ratio\n",
        "demo_parity_diff_to = demographic_parity_difference(y_test, y_pred_to, sensitive_features=X_test_sexes)\n",
        "demo_parity_ratio_to = demographic_parity_ratio(y_test, y_pred_to, sensitive_features=X_test_sexes)\n",
        "\n",
        "print(f'  Demographic parity difference: {demo_parity_diff_to:.4f}')\n",
        "print(f'  Demographic parity ratio: {demo_parity_ratio_to:.4f}')\n",
        "\n",
        "#compute selection rate for males and females\n",
        "male_selection_rate_to = selection_rate(y_test[X_test_sexes==1], y_pred_to[X_test_sexes==1])\n",
        "female_selection_rate_to = selection_rate(y_test[X_test_sexes==0], y_pred_to[X_test_sexes==0])\n",
        "\n",
        "print(f'  Male selection rate: {male_selection_rate_cr:.4f}')\n",
        "print(f'  Female selection rate: {female_selection_rate_cr:.4f}')"
      ],
      "metadata": {
        "colab": {
          "base_uri": "https://localhost:8080/"
        },
        "cellView": "form",
        "id": "roJpej4SJjEI",
        "outputId": "34fbda8d-470c-4320-ce05-69cbab62991a"
      },
      "execution_count": null,
      "outputs": [
        {
          "output_type": "stream",
          "name": "stdout",
          "text": [
            "Naive Model's results:\n",
            "  Demographic parity difference: 0.1304\n",
            "  Demographic parity ratio: 0.7171\n",
            "  Male selection rate: 0.4610\n",
            "  Female selection rate: 0.3306\n",
            "\n",
            "ThresholdOptimizer results:\n",
            "  Demographic parity difference: 0.0062\n",
            "  Demographic parity ratio: 0.9863\n",
            "  Male selection rate: 0.4030\n",
            "  Female selection rate: 0.3924\n"
          ]
        }
      ]
    },
    {
      "cell_type": "markdown",
      "source": [
        "#**TODO 7**: Is the ThresholdOptimizer successful at balancing selection rates? Is it fair?"
      ],
      "metadata": {
        "id": "hwKHcwTgKMDg"
      }
    },
    {
      "cell_type": "markdown",
      "source": [
        "**Answer:**"
      ],
      "metadata": {
        "id": "w-nhdkxZLUan"
      }
    },
    {
      "cell_type": "markdown",
      "source": [
        "Now, we try the same idea, but aiming for `false_negative_rate_parity` instead of `selection_rate_parity`"
      ],
      "metadata": {
        "id": "6um_IyQBLLd_"
      }
    },
    {
      "cell_type": "code",
      "source": [
        "#@title\n",
        "\n",
        "\n",
        "# Make the post-processed model\n",
        "postprocessed_model_fnr = ThresholdOptimizer(\n",
        "    estimator=default_model,\n",
        "    constraints='false_negative_rate_parity',\n",
        "    objective='balanced_accuracy_score',\n",
        "    prefit=True,\n",
        "    predict_method='predict_proba'\n",
        ")\n",
        "\n",
        "# Fit the model to the training data\n",
        "postprocessed_model_fnr.fit(X_train, y_train, sensitive_features=X_train['SEX'])\n",
        "\n",
        "# Predict on the test data\n",
        "y_pred_to_fnr = postprocessed_model_fnr.predict(X_test, sensitive_features=X_test['SEX'])\n",
        "\n",
        "# Make a metricframe\n",
        "grouped_on_sex_to_fnr = MetricFrame(\n",
        "    metrics=metrics,\n",
        "    y_true=y_test,\n",
        "    y_pred=y_pred_to_fnr,\n",
        "    sensitive_features=sensitive_feature\n",
        ")\n",
        "\n",
        "# Plot a metricframe grouped by sex\n",
        "grouped_on_sex_to.by_group.plot.bar(\n",
        "    subplots=True,\n",
        "    figsize=(5, 10),\n",
        "    ylim=[0,1],\n",
        "    title=\"Metrics by sex\",\n",
        "    )\n",
        "plt.show()"
      ],
      "metadata": {
        "colab": {
          "base_uri": "https://localhost:8080/",
          "height": 702
        },
        "id": "TLfYSKJWZOTG",
        "outputId": "d64bd2de-7578-4e4b-9ff1-80e3d8ac567a",
        "cellView": "form"
      },
      "execution_count": null,
      "outputs": [
        {
          "output_type": "display_data",
          "data": {
            "text/plain": [
              "<Figure size 360x720 with 4 Axes>"
            ],
            "image/png": "[encoded data removed]"
          },
          "metadata": {
            "needs_background": "light"
          }
        }
      ]
    },
    {
      "cell_type": "code",
      "source": [
        "#@title\n",
        "# print the fairness of the unaltered model\n",
        "print(\"Naive Model's results:\")\n",
        "print(f'  Demographic parity difference: {demo_parity_diff:.4f}')\n",
        "print(f'  Demographic parity ratio: {demo_parity_ratio:.4f}')\n",
        "print(f'  Male selection rate: {male_selection_rate:.4f}')\n",
        "print(f'  Female selection rate: {female_selection_rate:.4f}')\n",
        "print()\n",
        "\n",
        "\n",
        "# evaluate fairness of the classifier with Correlation Remover\n",
        "print('ThresholdOptimizer (for FNR) results:')\n",
        "\n",
        "#compute demographic parity difference and demographic parity ratio\n",
        "demo_parity_diff_to_fnr = demographic_parity_difference(y_test, y_pred_to_fnr, sensitive_features=X_test_sexes)\n",
        "demo_parity_ratio_to_fnr = demographic_parity_ratio(y_test, y_pred_to_fnr, sensitive_features=X_test_sexes)\n",
        "\n",
        "print(f'  Demographic parity difference: {demo_parity_diff_to_fnr:.4f}')\n",
        "print(f'  Demographic parity ratio: {demo_parity_ratio_to_fnr:.4f}')\n",
        "\n",
        "#compute selection rate for males and females\n",
        "male_selection_rate_to_fnr = selection_rate(y_test[X_test_sexes==1], y_pred_to_fnr[X_test_sexes==1])\n",
        "female_selection_rate_to_fnr = selection_rate(y_test[X_test_sexes==0], y_pred_to_fnr[X_test_sexes==0])\n",
        "\n",
        "print(f'  Male selection rate: {male_selection_rate_to_fnr:.4f}')\n",
        "print(f'  Female selection rate: {female_selection_rate_to_fnr:.4f}')"
      ],
      "metadata": {
        "colab": {
          "base_uri": "https://localhost:8080/"
        },
        "cellView": "form",
        "id": "rDFmE4LVK44P",
        "outputId": "ef6d4bb9-5836-45de-f023-a8caa8bae29a"
      },
      "execution_count": null,
      "outputs": [
        {
          "output_type": "stream",
          "name": "stdout",
          "text": [
            "Naive Model's results:\n",
            "  Demographic parity difference: 0.1304\n",
            "  Demographic parity ratio: 0.7171\n",
            "  Male selection rate: 0.4610\n",
            "  Female selection rate: 0.3306\n",
            "\n",
            "ThresholdOptimizer (for FNR) results:\n",
            "  Demographic parity difference: 0.0981\n",
            "  Demographic parity ratio: 0.8062\n",
            "  Male selection rate: 0.5061\n",
            "  Female selection rate: 0.4080\n"
          ]
        }
      ]
    },
    {
      "cell_type": "markdown",
      "source": [
        "#**TODO 8**: Is the ThresholdOptimizer successful at balancing false negative rates? Is it fair?"
      ],
      "metadata": {
        "id": "YfSpDbMfLZ-X"
      }
    },
    {
      "cell_type": "markdown",
      "source": [
        "**Answer**:"
      ],
      "metadata": {
        "id": "HEwZsvv1Ltk-"
      }
    },
    {
      "cell_type": "markdown",
      "source": [
        "#**TODO 9**: Which of all the methods we tried in this lab was the most effective?"
      ],
      "metadata": {
        "id": "IawHn4fAqzgJ"
      }
    },
    {
      "cell_type": "markdown",
      "source": [
        "**Answer:**"
      ],
      "metadata": {
        "id": "FqgRQpFdLxmH"
      }
    }
  ]
}